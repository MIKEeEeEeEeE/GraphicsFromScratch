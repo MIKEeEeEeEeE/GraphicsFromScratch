{
 "cells": [
  {
   "cell_type": "code",
   "execution_count": 291,
   "id": "2709be75",
   "metadata": {},
   "outputs": [],
   "source": [
    "import numpy as np\n",
    "from PIL import Image, ImageDraw, ImageColor"
   ]
  },
  {
   "cell_type": "code",
   "execution_count": 292,
   "id": "4c67646f",
   "metadata": {},
   "outputs": [],
   "source": [
    "class RotationTranslationMatrix:\n",
    "    def __init__(self, m) -> None:\n",
    "        assert m.shape[0] == m.shape[1]\n",
    "        self.m = m"
   ]
  },
  {
   "cell_type": "code",
   "execution_count": 293,
   "id": "9427005f",
   "metadata": {},
   "outputs": [],
   "source": [
    "class Vector:\n",
    "    def __init__(self, v):\n",
    "        self.v = v\n",
    "\n",
    "    def __eq__(self, __o):\n",
    "        return np.all(self.v == __o.v)\n",
    "\n",
    "    def __add__(self, __o):\n",
    "        return Vector(self.v + __o.v)\n",
    "\n",
    "    def __sub__(self, __o):\n",
    "        return Vector(self.v - __o.v)\n",
    "\n",
    "    def __mul__(self, __o):\n",
    "        return Vector(self.v * __o)\n",
    "\n",
    "    def norm(self):\n",
    "        return np.linalg.norm(self.v)\n",
    "\n",
    "    def unit(self):\n",
    "        return self.v / self.norm()"
   ]
  },
  {
   "cell_type": "code",
   "execution_count": 294,
   "id": "0be9805a",
   "metadata": {},
   "outputs": [],
   "source": [
    "class Point:\n",
    "    def __init__(self, *xyz):\n",
    "        self.xyz = np.array(xyz)\n",
    "\n",
    "    def as_affine(self):\n",
    "        self.xyz = self.xyz[:-1] / self.xyz[-1]\n",
    "\n",
    "    def as_homogenious(self):\n",
    "        self.xyz = np.append(self.xyz, 1) # return new?\n",
    "\n",
    "    def to_vec(self):\n",
    "        return Vector(self.xyz)\n",
    "\n",
    "    def __eq__(self, __o):\n",
    "        return np.all(self.xyz == __o.xyz)\n",
    "\n",
    "    def __add__(self, __o: Vector):\n",
    "        return Point(self.xyz + __o.v)\n",
    "\n",
    "    def __sub__(self, __o):\n",
    "        return Vector(self.xyz - __o.xyz)\n",
    "\n",
    "    # def __mul__(self, __o):\n",
    "    #     return Point(self.xyz * __o)\n",
    "\n",
    "    # def __matmul__(self, m):\n",
    "    #     return Vector(self.as_homogenious() @ m).to_affine()\n",
    "\n",
    "    def __repr__(self) -> str:\n",
    "        return f\"Point {self.xyz}\""
   ]
  },
  {
   "cell_type": "code",
   "execution_count": 295,
   "id": "4eec7ec0",
   "metadata": {},
   "outputs": [],
   "source": [
    "class Edge:\n",
    "    def __init__(\n",
    "        self,\n",
    "        a,\n",
    "        b,\n",
    "    ):\n",
    "        self.a = a\n",
    "        self.b = b\n",
    "        self.v = b - a\n",
    "\n",
    "    def __eq__(self, __o):\n",
    "        return (\n",
    "            self.a == __o.a and self.b == __o.b or self.a == __o.b and self.b == __o.a\n",
    "        )\n",
    "\n",
    "    def normal(self, viewpoint):\n",
    "        v_a = self.a - viewpoint\n",
    "        v_b = self.b - self.a\n",
    "        proj = np.dot(v_a, v_b) * v_b / v_b.norm() ** 2\n",
    "        n = (v_a - proj).unit()\n",
    "        return n\n",
    "\n",
    "    def __repr__(self) -> str:\n",
    "        return f\"Edge <{self.a} {self.b}>\""
   ]
  },
  {
   "cell_type": "code",
   "execution_count": 296,
   "id": "f43ec26c",
   "metadata": {},
   "outputs": [],
   "source": [
    "# TODO\n",
    "# 1) REDEFINE INITIALIZATION ✅\n",
    "# 2) DEFINE ROTATION (CLOCKWISE / COUNTERCLOCKWISE)\n",
    "# 3) DEFINE NORMALS FOR EDGES\n",
    "# 4) DELAUNEY TRIANGUALTION\n",
    "# 5) SPLIT EDGES AND VERTICES\n",
    "\n",
    "\n",
    "class Polygon:\n",
    "    def __init__(self, **kwargs) -> None:\n",
    "\n",
    "        self.vertices = None\n",
    "        self.edges = None\n",
    "        self.rotation = None\n",
    "        self.L = None\n",
    "        self.convex_type = None\n",
    "        self.simple_type = None\n",
    "        self.triangluation = None\n",
    "        self.split_edges = None\n",
    "        self.split_vertices = None\n",
    "        self.color = \"black\"\n",
    "        self.__dict__.update(kwargs)\n",
    "\n",
    "        assert self.vertices or self.edges, \"Polygon: vertices and edges are empty\"\n",
    "\n",
    "        if self.edges is None:\n",
    "            self.edges = self._edges()\n",
    "\n",
    "        if self.vertices is None:\n",
    "            self.vertices = self._vertices()\n",
    "\n",
    "        if self.L is None:\n",
    "            self.L = len(self.vertices)\n",
    "\n",
    "        if self.convex_type is None:\n",
    "            self.convex_type = self._convex_type()\n",
    "\n",
    "        if self.simple_type is None:\n",
    "            self.simple_type, self._intersection_pairs = self._simple_type()\n",
    "\n",
    "        if self.split_edges is None:\n",
    "            self.split_edges, self.split_vertices = self._split_edges_and_vertices()\n",
    "\n",
    "        if self.rotation is None:\n",
    "            self.rotation = self._rotation()\n",
    "\n",
    "        if self.triangluation is None:\n",
    "            self.triangluation = self._triangluation()\n",
    "\n",
    "        self.color_rgb = ImageColor.getrgb(self.color)\n",
    "\n",
    "    def _edges(self):\n",
    "        return [\n",
    "            Edge(p1, p2)\n",
    "            for p1, p2 in zip(\n",
    "                self.vertices, self.vertices[1:] + [self.vertices[0]]\n",
    "            )\n",
    "        ]\n",
    "\n",
    "    def _vertices(self):\n",
    "        return [edge[0] for edge in self.edges]\n",
    "\n",
    "    def _convex_type(self):\n",
    "        flag = None\n",
    "        for i in range(self.L):\n",
    "            for j in range(i + 1, i + 1 + self.L - 2):\n",
    "                cl_type = classifyEdgePoint(self.edges[j % self.L], self.vertices[i])\n",
    "                if flag is None:\n",
    "                    flag = cl_type\n",
    "                elif flag != cl_type:\n",
    "                    return \"CONCAVE\"\n",
    "        return \"CONVEX\"\n",
    "\n",
    "    def _simple_type(self):\n",
    "        flag = \"SIMPLE\"\n",
    "        intersection_pairs = {}\n",
    "        for i in range((self.L + 1) // 2):\n",
    "            for j in range(i + 1, i + 1 + self.L - 2):\n",
    "                jmod = j % self.L\n",
    "                vi, vj = self.edges[i], self.edges[jmod]\n",
    "                cross_type, ti = crossEdges(vi, vj)\n",
    "                if cross_type == \"SKEW_CROSS\":\n",
    "                    intersection_point = vi.a + (vi.b - vi.a) * ti\n",
    "                    tj = (intersection_point - vj.a).norm() / vj.v.norm()\n",
    "                    intersection_pairs[(i, jmod)] = (intersection_point, ti, tj)\n",
    "                    flag = \"SELF_INTERSECTED\"\n",
    "        return flag, intersection_pairs\n",
    "\n",
    "    def _rotation(self):\n",
    "        signed_area = self.signed_area()\n",
    "        if signed_area > 0:\n",
    "            return \"CCW\"\n",
    "        return \"CW\"\n",
    "\n",
    "    def _split_edges_and_vertices(self):\n",
    "        if self.simple_type == \"SIMPLE\":\n",
    "            return [self.edges], [self.vertices]\n",
    "        new_edges = {}\n",
    "        t_s = {}\n",
    "        for k, v in self._intersection_pairs.items():\n",
    "            intersection_point, ti, tj = v\n",
    "            i, j = k\n",
    "            for idx, t in ((i, ti), (j, tj)):\n",
    "                if idx not in new_edges:\n",
    "                    new_edges[idx] = [\n",
    "                        Edge(self.edges[idx].a, intersection_point),\n",
    "                        Edge(intersection_point, self.edges[idx].b),\n",
    "                    ]\n",
    "                    t_s[idx] = [t]\n",
    "                else:\n",
    "                    split_index = next((x[0] for x in enumerate(t_s[idx]) if x[1] > t), len(t_s[idx]))\n",
    "                    t_s[idx].insert(split_index, t)\n",
    "                    edge2split = new_edges[idx].pop(split_index)\n",
    "                    new_edges[idx].insert(\n",
    "                        split_index, Edge(intersection_point, edge2split.b)\n",
    "                    )\n",
    "                    new_edges[idx].insert(\n",
    "                        split_index, Edge(edge2split.a, intersection_point)\n",
    "                    )\n",
    "        return new_edges, 1\n",
    "\n",
    "    def signed_area(self):\n",
    "        signed_area = 0.5 * sum(np.cross(edge.a.xyz, edge.b.xyz) for edge in self.split_edges[0])\n",
    "        return signed_area\n",
    "\n",
    "    def EO(self, p):\n",
    "        intersection_sum = 0\n",
    "        for edge in self.edges:\n",
    "            match classifyEdgePoint(edge, p):\n",
    "                case \"TOUCHING\":\n",
    "                    return \"INSIDE\"\n",
    "                case \"CROSS_LEFT\":\n",
    "                    intersection_sum += 1\n",
    "                case \"CROSS_RIGHT\":\n",
    "                    intersection_sum += 1\n",
    "        if intersection_sum % 2 == 1:\n",
    "            return \"INSIDE\"\n",
    "        return \"OUTSIDE\"\n",
    "\n",
    "    def NZW(self, p):\n",
    "        winding_number = 0\n",
    "        for edge in self.edges:\n",
    "            match classifyEdgePoint(edge, p):\n",
    "                case \"TOUCHING\":\n",
    "                    return \"INSIDE\"\n",
    "                case \"CROSS_LEFT\":\n",
    "                    winding_number += 1\n",
    "                case \"CROSS_RIGHT\":\n",
    "                    winding_number -= 1\n",
    "        if winding_number == 0:\n",
    "            return \"OUTSIDE\"\n",
    "        return \"INSIDE\"\n",
    "\n",
    "    def _triangluation(self):\n",
    "        return 1\n",
    "    #     # return adjacency matrix?\n",
    "    #     all_points = self.vertices\n",
    "    #     for edge in self.edges:\n",
    "    #         all_points.extend(edge.intersection_points())\n",
    "    #     all_points = sorted(all_points, lambda x: x.xyz[0])\n",
    "    #     triangualtion = Polygon(*all_points[:3], color=tricolor)\n",
    "    #     for point in all_points[3:]:\n",
    "    #         for edge in triangualtion:\n",
    "    #             view_dir = Vector(edge[0] - point)\n",
    "    #         poly = Polygon(\n",
    "    #             edges=triangualtion.edges+[Edge(v, point) for v in triangualtion.vertices],\n",
    "    #             color=tricolor\n",
    "    #         )"
   ]
  },
  {
   "cell_type": "code",
   "execution_count": 297,
   "id": "6f945641",
   "metadata": {},
   "outputs": [],
   "source": [
    "def edge_visible(): ..."
   ]
  },
  {
   "cell_type": "code",
   "execution_count": 298,
   "id": "4474d0ca",
   "metadata": {},
   "outputs": [],
   "source": [
    "def check_edge_visibility(face, view_direction=np.array([0, 0, 1000])):\n",
    "    v1, v2, v3, *_ = face\n",
    "    normal = np.cross(np.array([*(v3 - v1)]), np.array([*(v2 - v1)]))\n",
    "    dot_product = np.dot(normal, view_direction)\n",
    "    return dot_product <= 0"
   ]
  },
  {
   "cell_type": "code",
   "execution_count": 299,
   "id": "fb02b3b2",
   "metadata": {},
   "outputs": [],
   "source": [
    "def draw_polygon(polygon, draw):\n",
    "    for edge in polygon.edges:\n",
    "        draw.point(pixelEdge(edge), fill=polygon.color)"
   ]
  },
  {
   "cell_type": "code",
   "execution_count": 300,
   "id": "83cb0a23",
   "metadata": {},
   "outputs": [],
   "source": [
    "def pixelLine(x1, y1, x2, y2):\n",
    "    dx = x2 - x1\n",
    "    dy = y2 - y1\n",
    "    ix = 1 if dx > 0 else -1\n",
    "    iy = 1 if dy > 0 else -1\n",
    "    dx *= ix\n",
    "    dy *= iy\n",
    "    x = x1\n",
    "    y = y1\n",
    "    pixels = []\n",
    "    if dx < dy:\n",
    "        E = 2 * dx - dy\n",
    "        for _ in range(dy + 1):\n",
    "            pixels.append((x, y))\n",
    "            if E >= 0:\n",
    "                x += ix\n",
    "                E -= 2 * dy\n",
    "            y += iy\n",
    "            E += 2 * dx\n",
    "    else:\n",
    "        E = 2 * dy - dx\n",
    "        for _ in range(dx + 1):\n",
    "            pixels.append((x, y))\n",
    "            if E >= 0:\n",
    "                y += iy\n",
    "                E -= 2 * dx\n",
    "            x += ix\n",
    "            E += 2 * dy\n",
    "    return pixels\n",
    "\n",
    "\n",
    "def pixelEdge(e):\n",
    "    x1, y1, x2, y2 = (\n",
    "        round(e.a.xyz[0]),\n",
    "        round(e.a.xyz[1]),\n",
    "        round(e.b.xyz[0]),\n",
    "        round(e.b.xyz[1]),\n",
    "    )\n",
    "    return pixelLine(x1, y1, x2, y2)"
   ]
  },
  {
   "cell_type": "code",
   "execution_count": 301,
   "id": "f1b4a399",
   "metadata": {},
   "outputs": [],
   "source": [
    "def classify(x1, y1, x2, y2, x, y):\n",
    "    ax = x2 - x1\n",
    "    ay = y2 - y1\n",
    "    bx = x - x1\n",
    "    by = y - y1\n",
    "    s = ax * by - ay * bx\n",
    "    if s > 0:\n",
    "        return \"LEFT\"\n",
    "    if s < 0:\n",
    "        return \"RIGHT\"\n",
    "    if ax * bx < 0 or ay * by < 0:\n",
    "        return \"BEHIND\"\n",
    "    if ax**2 + ay**2 < bx**2 + by**2:\n",
    "        return \"INFRONT\"\n",
    "    if x == x1 and y == y1:\n",
    "        return \"ORIGIN\"\n",
    "    if x == x2 and y == y2:\n",
    "        return \"DESTINATION\"\n",
    "    return \"BETWEEN\"\n",
    "\n",
    "\n",
    "def classifyEdgePoint(e, p):\n",
    "    return classify(*e.a.xyz, *e.b.xyz, *p.xyz)"
   ]
  },
  {
   "cell_type": "code",
   "execution_count": 302,
   "id": "4b9aa4e1",
   "metadata": {},
   "outputs": [],
   "source": [
    "def intersect(ax, ay, bx, by, cx, cy, dx, dy):\n",
    "    nx = dy - cy\n",
    "    ny = cx - dx\n",
    "    denom = nx * (bx - ax) + ny * (by - ay)\n",
    "    if denom == 0:\n",
    "        type = classify(cx, cy, dx, dy, ax, ay)\n",
    "        if type == \"LEFT\" or type == \"RIGHT\":\n",
    "            return \"PARALLEL\", None\n",
    "        else:\n",
    "            return \"SAME\", None\n",
    "    num = nx * (ax - cx) + ny * (ay - cy)\n",
    "    t = -num / denom\n",
    "    return \"SKEW\", t\n",
    "\n",
    "\n",
    "def intersectEdges(e1, e2):\n",
    "    return intersect(*e1.a.xyz, *e1.b.xyz, *e2.a.xyz, *e2.b.xyz)"
   ]
  },
  {
   "cell_type": "code",
   "execution_count": 303,
   "id": "898e2fb9",
   "metadata": {},
   "outputs": [],
   "source": [
    "def cross(ax, ay, bx, by, cx, cy, dx, dy):\n",
    "    type, tab = intersect(ax, ay, bx, by, cx, cy, dx, dy)\n",
    "    if type == \"SAME\" or type == \"PARALLEL\" or tab is None:\n",
    "        return type, None\n",
    "    if tab < 0 or tab > 1:\n",
    "        return \"SKEW_NO_CROSS\", None\n",
    "    _, tcd = intersect(cx, cy, dx, dy, ax, ay, bx, by)\n",
    "    if tcd is not None and (tcd < 0 or tcd > 1):\n",
    "        return \"SKEW_NO_CROSS\", None\n",
    "    return \"SKEW_CROSS\", tab\n",
    "\n",
    "\n",
    "def crossEdges(e1, e2):\n",
    "    return cross(*e1.a.xyz, *e1.b.xyz, *e2.a.xyz, *e2.b.xyz)"
   ]
  },
  {
   "cell_type": "code",
   "execution_count": 304,
   "id": "ff863736",
   "metadata": {},
   "outputs": [],
   "source": [
    "img = Image.new(\"RGB\", (200, 200), \"white\")\n",
    "draw = ImageDraw.Draw(img)"
   ]
  },
  {
   "cell_type": "code",
   "execution_count": 305,
   "id": "8a4271cb",
   "metadata": {},
   "outputs": [],
   "source": [
    "p1 = Polygon(\n",
    "    vertices=[\n",
    "        Point(10, 10),\n",
    "        Point(40, 100),\n",
    "        Point(100, 150),\n",
    "        Point(50, 180),\n",
    "        Point(70, 10),\n",
    "    ],\n",
    "    color=\"green\",\n",
    ")"
   ]
  },
  {
   "cell_type": "code",
   "execution_count": 306,
   "id": "bdb1e71a",
   "metadata": {},
   "outputs": [
    {
     "data": {
      "text/plain": [
       "'CONCAVE'"
      ]
     },
     "execution_count": 306,
     "metadata": {},
     "output_type": "execute_result"
    }
   ],
   "source": [
    "p1.convex_type"
   ]
  },
  {
   "cell_type": "code",
   "execution_count": 307,
   "id": "06cfc015",
   "metadata": {},
   "outputs": [
    {
     "data": {
      "text/plain": [
       "'SELF_INTERSECTED'"
      ]
     },
     "execution_count": 307,
     "metadata": {},
     "output_type": "execute_result"
    }
   ],
   "source": [
    "p1.simple_type"
   ]
  },
  {
   "cell_type": "code",
   "execution_count": 308,
   "id": "6b543158",
   "metadata": {},
   "outputs": [],
   "source": [
    "draw_polygon(p1, draw)"
   ]
  },
  {
   "cell_type": "code",
   "execution_count": 309,
   "id": "8623801d",
   "metadata": {},
   "outputs": [],
   "source": [
    "p2 = Polygon(\n",
    "    vertices=[\n",
    "        Point(20, 10),\n",
    "        Point(50, 10),\n",
    "        Point(80, 20),\n",
    "        Point(90, 50),\n",
    "        Point(70, 80),\n",
    "        Point(40, 90),\n",
    "        Point(10, 60),\n",
    "    ],\n",
    "    color=\"yellow\",\n",
    ")"
   ]
  },
  {
   "cell_type": "code",
   "execution_count": 310,
   "id": "2c7f81da",
   "metadata": {},
   "outputs": [
    {
     "data": {
      "text/plain": [
       "'CONVEX'"
      ]
     },
     "execution_count": 310,
     "metadata": {},
     "output_type": "execute_result"
    }
   ],
   "source": [
    "p2.convex_type"
   ]
  },
  {
   "cell_type": "code",
   "execution_count": 311,
   "id": "ccc3f55d",
   "metadata": {},
   "outputs": [
    {
     "data": {
      "text/plain": [
       "'SELF_INTERSECTED'"
      ]
     },
     "execution_count": 311,
     "metadata": {},
     "output_type": "execute_result"
    }
   ],
   "source": [
    "p2.simple_type"
   ]
  },
  {
   "cell_type": "code",
   "execution_count": 312,
   "id": "fc81e05d",
   "metadata": {},
   "outputs": [],
   "source": [
    "draw_polygon(p2, draw)\n",
    "# img.show()"
   ]
  },
  {
   "cell_type": "code",
   "execution_count": 313,
   "id": "29eb076b",
   "metadata": {},
   "outputs": [],
   "source": [
    "triangle = Polygon(\n",
    "    vertices=[\n",
    "        Point(34, 80), \n",
    "        Point(57, 1), \n",
    "        Point(170, 80),\n",
    "        ], \n",
    "        color=\"yellow\"  # A B  # B C  # C A\n",
    ")"
   ]
  },
  {
   "cell_type": "code",
   "execution_count": 314,
   "id": "4286523f",
   "metadata": {},
   "outputs": [],
   "source": [
    "def paint_triangle():\n",
    "    edges = [pixelEdge(edge) for edge in triangle.edges]\n",
    "    ABC = edges[0] + edges[1]\n",
    "    i = 0\n",
    "    AC = edges[2][::-1]\n",
    "    j = 0\n",
    "    A = AC[0]\n",
    "    C = AC[-1]\n",
    "    dxAC = abs(A[0] - C[0])\n",
    "    dyAC = abs(A[1] - C[1])\n",
    "    k = 0 if dxAC > dyAC else 1\n",
    "    pixels = []\n",
    "    while ABC[i] != C:\n",
    "        line = pixelLine(*ABC[i], *AC[j])\n",
    "        pixels.extend(line)\n",
    "        i += 1\n",
    "        if AC[j][k] != ABC[i][k]:\n",
    "            j += 1\n",
    "    return pixels"
   ]
  },
  {
   "cell_type": "code",
   "execution_count": 315,
   "id": "4c58e51b",
   "metadata": {},
   "outputs": [],
   "source": [
    "draw.point(paint_triangle(), fill=\"red\")\n",
    "img.show()"
   ]
  }
 ],
 "metadata": {
  "kernelspec": {
   "display_name": "Python 3",
   "language": "python",
   "name": "python3"
  },
  "language_info": {
   "codemirror_mode": {
    "name": "ipython",
    "version": 3
   },
   "file_extension": ".py",
   "mimetype": "text/x-python",
   "name": "python",
   "nbconvert_exporter": "python",
   "pygments_lexer": "ipython3",
   "version": "3.12.10"
  }
 },
 "nbformat": 4,
 "nbformat_minor": 5
}
