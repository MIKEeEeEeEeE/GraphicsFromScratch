{
 "cells": [
  {
   "cell_type": "code",
   "execution_count": 2547,
   "id": "2709be75",
   "metadata": {},
   "outputs": [],
   "source": [
    "import numpy as np\n",
    "from PIL import Image, ImageDraw, ImageColor"
   ]
  },
  {
   "cell_type": "code",
   "execution_count": 2548,
   "id": "4c67646f",
   "metadata": {},
   "outputs": [],
   "source": [
    "class RotationTranslationMatrix:\n",
    "    def __init__(self, m) -> None:\n",
    "        assert m.shape[0] == m.shape[1]\n",
    "        self.m = m"
   ]
  },
  {
   "cell_type": "code",
   "execution_count": 2549,
   "id": "9427005f",
   "metadata": {},
   "outputs": [],
   "source": [
    "class Vector:\n",
    "    def __init__(self, v):\n",
    "        self.v = v\n",
    "\n",
    "    def __eq__(self, __o):\n",
    "        return np.allclose(self.v, __o.v)\n",
    "\n",
    "    def __add__(self, __o):\n",
    "        return Vector(self.v + __o.v)\n",
    "\n",
    "    def __sub__(self, __o):\n",
    "        return Vector(self.v - __o.v)\n",
    "\n",
    "    def __mul__(self, __o):\n",
    "        return Vector(self.v * __o)\n",
    "    \n",
    "    def to_point(self):\n",
    "        return Point(nparr=self.v)\n",
    "\n",
    "    def norm(self):\n",
    "        return np.linalg.norm(self.v)\n",
    "\n",
    "    def unit(self):\n",
    "        return self.v / self.norm()\n",
    "\n",
    "    def __repr__(self) -> str:\n",
    "        return f\"Vector {self.v}\""
   ]
  },
  {
   "cell_type": "code",
   "execution_count": 2550,
   "id": "0be9805a",
   "metadata": {},
   "outputs": [],
   "source": [
    "class Point:\n",
    "    def __init__(self, *xyz, nparr=None):\n",
    "        self.xyz = np.array(xyz) if xyz else nparr\n",
    "\n",
    "    def as_affine(self):\n",
    "        self.xyz = self.xyz[:-1] / self.xyz[-1]\n",
    "\n",
    "    def as_homogenious(self):\n",
    "        self.xyz = np.append(self.xyz, 1)  # return new?\n",
    "\n",
    "    def to_vec(self):\n",
    "        return Vector(self.xyz)\n",
    "\n",
    "    def __eq__(self, __o):\n",
    "        return np.allclose(self.xyz, __o.xyz)\n",
    "\n",
    "    def __add__(self, __o: Vector):\n",
    "        return Point(nparr=self.xyz + __o.v)\n",
    "\n",
    "    def __sub__(self, __o):\n",
    "        return Vector(self.xyz - __o.xyz)\n",
    "\n",
    "    # def __mul__(self, __o):\n",
    "    #     return Point(self.xyz * __o)\n",
    "\n",
    "    # def __matmul__(self, m):\n",
    "    #     return Vector(self.as_homogenious() @ m).to_affine()\n",
    "\n",
    "    def __repr__(self) -> str:\n",
    "        return f\"Point {self.xyz}\""
   ]
  },
  {
   "cell_type": "code",
   "execution_count": 2551,
   "id": "4eec7ec0",
   "metadata": {},
   "outputs": [],
   "source": [
    "class Edge:\n",
    "    def __init__(\n",
    "        self,\n",
    "        a,\n",
    "        b,\n",
    "    ):\n",
    "        self.a = a\n",
    "        self.b = b\n",
    "        self.v = b - a\n",
    "\n",
    "    def __eq__(self, __o):\n",
    "        return (\n",
    "            self.a == __o.a and self.b == __o.b or self.a == __o.b and self.b == __o.a\n",
    "        )\n",
    "\n",
    "    def normal(self, viewpoint):\n",
    "        v_a = self.a - viewpoint\n",
    "        v_b = self.b - self.a\n",
    "        proj = v_b * np.dot(v_a.v, v_b.v) * (1 / v_b.norm() ** 2)\n",
    "        n = (v_a - proj).unit()\n",
    "        return n\n",
    "\n",
    "    def __repr__(self) -> str:\n",
    "        return f\"Edge <{self.a} {self.b}>\""
   ]
  },
  {
   "cell_type": "code",
   "execution_count": 2552,
   "id": "f43ec26c",
   "metadata": {},
   "outputs": [],
   "source": [
    "# TODO\n",
    "# 2) DEFINE NORMALS FOR EDGES\n",
    "# 1) DELAUNEY TRIANGUALTION\n",
    "\n",
    "import functools\n",
    "import operator\n",
    "\n",
    "\n",
    "class Polygon:\n",
    "    def __init__(self, **kwargs) -> None:\n",
    "\n",
    "        self.vertices = None\n",
    "        self.edges = None\n",
    "        self.rotation = None\n",
    "        self.L = None\n",
    "        self.convex_type = None\n",
    "        self.simple_type = None\n",
    "        self.signed_area = None\n",
    "        self.triangluation = None\n",
    "        self.mean_center = None\n",
    "        self.edge_normals = None\n",
    "        self.simple_polygon_list = []\n",
    "        self.color = \"black\"\n",
    "        self.__dict__.update(kwargs)\n",
    "\n",
    "        assert self.vertices or self.edges, \"Polygon: vertices and edges are empty\"\n",
    "\n",
    "        if self.edges is None:\n",
    "            self._edges()\n",
    "\n",
    "        if self.vertices is None:\n",
    "            self._vertices()\n",
    "\n",
    "        if self.L is None:\n",
    "            self.L = len(self.vertices)\n",
    "\n",
    "        if self.convex_type is None:\n",
    "            self._convex_type()\n",
    "\n",
    "        if self.simple_type is None:\n",
    "            self._simple_type()\n",
    "\n",
    "        if self.simple_polygon_list == []:\n",
    "            if self.simple_type == \"SELF_INTERSECTED\":\n",
    "                self._simple_polygon_list()\n",
    "            else:\n",
    "                self.simple_polygon_list = [self]\n",
    "\n",
    "        if self.triangluation is None:\n",
    "            self._triangluation()\n",
    "        \n",
    "        if self.signed_area is None:\n",
    "            self._signed_area()\n",
    "\n",
    "        if self.rotation is None:\n",
    "            self._rotation()\n",
    "        \n",
    "        if self.mean_center is None:\n",
    "            self._mean_center()\n",
    "\n",
    "        if self.edge_normals is None:\n",
    "            self._edge_normals()\n",
    "\n",
    "        self.color_rgb = ImageColor.getrgb(self.color)\n",
    "\n",
    "    def _edges(self):\n",
    "        self.edges = [\n",
    "            Edge(p1, p2)\n",
    "            for p1, p2 in zip(self.vertices, self.vertices[1:] + [self.vertices[0]])\n",
    "        ]\n",
    "\n",
    "    def _vertices(self):\n",
    "        self.vertices = [edge.a for edge in self.edges]\n",
    "\n",
    "    def _convex_type(self):\n",
    "        flag = None\n",
    "        for i in range(self.L):\n",
    "            for j in range(i + 1, i + self.L - 1):\n",
    "                cl_type = classifyEdgePoint(self.edges[j % self.L], self.vertices[i])\n",
    "                if flag is None:\n",
    "                    flag = cl_type\n",
    "                elif flag != cl_type:\n",
    "                    self.convex_type = \"CONCAVE\"\n",
    "                    return\n",
    "        self.convex_type = \"CONVEX\"\n",
    "\n",
    "    def _simple_type(self):\n",
    "        flag = \"SIMPLE\"\n",
    "        intersection_pairs = {}\n",
    "        for i in range(self.L - 1):\n",
    "            for j in range(i + 2, self.L):\n",
    "                if i == (j + 1) % self.L:\n",
    "                    continue\n",
    "                vi, vj = self.edges[i], self.edges[j]\n",
    "                cross_type, ti = crossEdges(vi, vj)\n",
    "                if cross_type == \"SKEW_CROSS\":\n",
    "                    intersection_point = vi.a + (vi.b - vi.a) * ti\n",
    "                    tj = (intersection_point - vj.a).norm() / vj.v.norm()\n",
    "                    intersection_pairs[(i, j)] = (intersection_point, ti, tj)\n",
    "                    flag = \"SELF_INTERSECTED\"\n",
    "        self.simple_type = flag\n",
    "        self._intersection_pairs = intersection_pairs\n",
    "\n",
    "    def _rotation(self):\n",
    "        self.rotation = \"CCW\" if self.signed_area > 0 else \"CW\"\n",
    "\n",
    "    def _simple_polygon_list(self):\n",
    "        # Step 1: Collect intersection points per edge\n",
    "        splits = {}  # edge_idx -> [(t_param, point), ...]\n",
    "        for (i, j), (point, ti, tj) in self._intersection_pairs.items():\n",
    "            for idx, t in ((i, ti), (j, tj)):\n",
    "                splits.setdefault(idx, []).append((t, point))\n",
    "\n",
    "        # Sort splits by parameter t for each edge\n",
    "        for split_list in splits.values():\n",
    "            split_list.sort(key=lambda x: x[0])\n",
    "\n",
    "        # Build new edges from sorted splits\n",
    "        split_edges = {}\n",
    "        for idx, split_list in splits.items():\n",
    "            edge = self.edges[idx]\n",
    "            segments = [edge.a] + [pt for _, pt in split_list] + [edge.b]\n",
    "            split_edges[idx] = [\n",
    "                Edge(segments[i], segments[i + 1]) for i in range(len(segments) - 1)\n",
    "            ]\n",
    "\n",
    "        stack_edges = [[]]\n",
    "        for i in range(self.L):\n",
    "            if i not in split_edges:\n",
    "                stack_edges[-1].append(self.edges[i])\n",
    "                if (\n",
    "                    len(stack_edges[-1]) > 1 and \\\n",
    "                        stack_edges[-1][0].a == stack_edges[-1][-1].b\n",
    "                ):\n",
    "                    self.simple_polygon_list.append(\n",
    "                        Polygon(\n",
    "                            edges=stack_edges.pop(), \n",
    "                            simple_type=\"SIMPLE\",\n",
    "                            color=self.color)\n",
    "                        )\n",
    "            else:\n",
    "                for edge in split_edges[i]:\n",
    "                    stack_edges[-1].append(edge)\n",
    "                    if (\n",
    "                        len(stack_edges[-1]) > 1 and \\\n",
    "                            stack_edges[-1][0].a == stack_edges[-1][-1].b\n",
    "                    ):\n",
    "                        self.simple_polygon_list.append(\n",
    "                            Polygon(\n",
    "                                edges=stack_edges.pop(), \n",
    "                                simple_type=\"SIMPLE\",\n",
    "                                color=self.color\n",
    "                                )\n",
    "                            )\n",
    "                    else:\n",
    "                        stack_edges.append([])\n",
    "                if stack_edges:\n",
    "                    del stack_edges[-1]\n",
    "\n",
    "    def _signed_area(self):\n",
    "        self.signed_area = 0.5 * sum(np.cross(edge.a.xyz, edge.b.xyz) for edge in self.edges)\n",
    "    \n",
    "    def _edge_normals(self):\n",
    "        self.edge_normals = [edge.normal(viewpoint=self.mean_center) for edge in self.edges]\n",
    "\n",
    "    def EO(self, p):\n",
    "        intersection_sum = 0\n",
    "        for edge in self.edges:\n",
    "            match classifyEdgePoint(edge, p):\n",
    "                case \"TOUCHING\":\n",
    "                    return \"INSIDE\"\n",
    "                case \"CROSS_LEFT\":\n",
    "                    intersection_sum += 1\n",
    "                case \"CROSS_RIGHT\":\n",
    "                    intersection_sum += 1\n",
    "        if intersection_sum % 2 == 1:\n",
    "            return \"INSIDE\"\n",
    "        return \"OUTSIDE\"\n",
    "\n",
    "    def NZW(self, p):\n",
    "        winding_number = 0\n",
    "        for edge in self.edges:\n",
    "            match classifyEdgePoint(edge, p):\n",
    "                case \"TOUCHING\":\n",
    "                    return \"INSIDE\"\n",
    "                case \"CROSS_LEFT\":\n",
    "                    winding_number += 1\n",
    "                case \"CROSS_RIGHT\":\n",
    "                    winding_number -= 1\n",
    "        if winding_number == 0:\n",
    "            return \"OUTSIDE\"\n",
    "        return \"INSIDE\"\n",
    "    \n",
    "    def _mean_center(self):\n",
    "        vecs = (v.to_vec() for v in self.vertices)\n",
    "        self.mean_center = (functools.reduce(operator.add, vecs) * (1 / self.L)).to_point()\n",
    "    \n",
    "    def _visible_edges(self, view_direction):\n",
    "        ...\n",
    "\n",
    "    def _triangluation(self):\n",
    "        # for pairs in zip(self.vertices, self.edges):\n",
    "        #     # Отсортируем все точки вдоль некоторой прямой (для простоты по координате $x$).\n",
    "        #     pairs = sorted(pairs, key= lambda x: x[0].xyz[0])\n",
    "        #     # Построим треугольник на первых 3 точках.\n",
    "        #     triangle = Polygon(edges=pairs[:3])\n",
    "        ...\n",
    "            "
   ]
  },
  {
   "cell_type": "code",
   "execution_count": 2553,
   "id": "6f945641",
   "metadata": {},
   "outputs": [],
   "source": [
    "def edge_visible(): \n",
    "    ..."
   ]
  },
  {
   "cell_type": "code",
   "execution_count": 2554,
   "id": "4474d0ca",
   "metadata": {},
   "outputs": [],
   "source": [
    "def check_edge_visibility(face, view_direction=np.array([0, 0, 1000])):\n",
    "    v1, v2, v3, *_ = face\n",
    "    normal = np.cross(np.array([*(v3 - v1)]), np.array([*(v2 - v1)]))\n",
    "    dot_product = np.dot(normal, view_direction)\n",
    "    return dot_product <= 0"
   ]
  },
  {
   "cell_type": "code",
   "execution_count": 2555,
   "id": "fb02b3b2",
   "metadata": {},
   "outputs": [],
   "source": [
    "def draw_polygon(polygon, draw):\n",
    "    for edge in polygon.edges:\n",
    "        draw.point(pixelEdge(edge), fill=polygon.color)"
   ]
  },
  {
   "cell_type": "code",
   "execution_count": 2556,
   "id": "83cb0a23",
   "metadata": {},
   "outputs": [],
   "source": [
    "def pixelLine(x1, y1, x2, y2):\n",
    "    dx = x2 - x1\n",
    "    dy = y2 - y1\n",
    "    ix = 1 if dx > 0 else -1\n",
    "    iy = 1 if dy > 0 else -1\n",
    "    dx *= ix\n",
    "    dy *= iy\n",
    "    x = x1\n",
    "    y = y1\n",
    "    pixels = []\n",
    "    if dx < dy:\n",
    "        E = 2 * dx - dy\n",
    "        for _ in range(dy + 1):\n",
    "            pixels.append((x, y))\n",
    "            if E >= 0:\n",
    "                x += ix\n",
    "                E -= 2 * dy\n",
    "            y += iy\n",
    "            E += 2 * dx\n",
    "    else:\n",
    "        E = 2 * dy - dx\n",
    "        for _ in range(dx + 1):\n",
    "            pixels.append((x, y))\n",
    "            if E >= 0:\n",
    "                y += iy\n",
    "                E -= 2 * dx\n",
    "            x += ix\n",
    "            E += 2 * dy\n",
    "    return pixels\n",
    "\n",
    "\n",
    "def pixelEdge(e):\n",
    "    x1, y1, x2, y2 = (\n",
    "        round(e.a.xyz[0]),\n",
    "        round(e.a.xyz[1]),\n",
    "        round(e.b.xyz[0]),\n",
    "        round(e.b.xyz[1]),\n",
    "    )\n",
    "    return pixelLine(x1, y1, x2, y2)"
   ]
  },
  {
   "cell_type": "code",
   "execution_count": 2557,
   "id": "f1b4a399",
   "metadata": {},
   "outputs": [],
   "source": [
    "def classify(x1, y1, x2, y2, x, y):\n",
    "    ax = x2 - x1\n",
    "    ay = y2 - y1\n",
    "    bx = x - x1\n",
    "    by = y - y1\n",
    "    s = ax * by - ay * bx\n",
    "    if s > 0:\n",
    "        return \"LEFT\"\n",
    "    if s < 0:\n",
    "        return \"RIGHT\"\n",
    "    if ax * bx < 0 or ay * by < 0:\n",
    "        return \"BEHIND\"\n",
    "    if ax**2 + ay**2 < bx**2 + by**2:\n",
    "        return \"INFRONT\"\n",
    "    if x == x1 and y == y1:\n",
    "        return \"ORIGIN\"\n",
    "    if x == x2 and y == y2:\n",
    "        return \"DESTINATION\"\n",
    "    return \"BETWEEN\"\n",
    "\n",
    "\n",
    "def classifyEdgePoint(e, p):\n",
    "    return classify(*e.a.xyz, *e.b.xyz, *p.xyz)"
   ]
  },
  {
   "cell_type": "code",
   "execution_count": 2558,
   "id": "4b9aa4e1",
   "metadata": {},
   "outputs": [],
   "source": [
    "def intersect(ax, ay, bx, by, cx, cy, dx, dy):\n",
    "    nx = dy - cy\n",
    "    ny = cx - dx\n",
    "    denom = nx * (bx - ax) + ny * (by - ay)\n",
    "    if denom == 0:\n",
    "        type = classify(cx, cy, dx, dy, ax, ay)\n",
    "        if type == \"LEFT\" or type == \"RIGHT\":\n",
    "            return \"PARALLEL\", None\n",
    "        else:\n",
    "            return \"SAME\", None\n",
    "    num = nx * (ax - cx) + ny * (ay - cy)\n",
    "    t = -num / denom\n",
    "    return \"SKEW\", t\n",
    "\n",
    "\n",
    "def intersectEdges(e1, e2):\n",
    "    return intersect(*e1.a.xyz, *e1.b.xyz, *e2.a.xyz, *e2.b.xyz)"
   ]
  },
  {
   "cell_type": "code",
   "execution_count": 2559,
   "id": "898e2fb9",
   "metadata": {},
   "outputs": [],
   "source": [
    "def cross(ax, ay, bx, by, cx, cy, dx, dy):\n",
    "    type, tab = intersect(ax, ay, bx, by, cx, cy, dx, dy)\n",
    "    if type == \"SAME\" or type == \"PARALLEL\" or tab is None:\n",
    "        return type, None\n",
    "    if tab < 0 or tab > 1:\n",
    "        return \"SKEW_NO_CROSS\", None\n",
    "    _, tcd = intersect(cx, cy, dx, dy, ax, ay, bx, by)\n",
    "    if tcd is not None and (tcd < 0 or tcd > 1):\n",
    "        return \"SKEW_NO_CROSS\", None\n",
    "    return \"SKEW_CROSS\", tab\n",
    "\n",
    "\n",
    "def crossEdges(e1, e2):\n",
    "    return cross(*e1.a.xyz, *e1.b.xyz, *e2.a.xyz, *e2.b.xyz)"
   ]
  },
  {
   "cell_type": "code",
   "execution_count": 2560,
   "id": "ff863736",
   "metadata": {},
   "outputs": [],
   "source": [
    "img = Image.new(\"RGB\", (200, 200), \"white\")\n",
    "draw = ImageDraw.Draw(img)"
   ]
  },
  {
   "cell_type": "code",
   "execution_count": 2561,
   "id": "84ab52c4",
   "metadata": {},
   "outputs": [],
   "source": [
    "p0 = Polygon(\n",
    "    vertices=[\n",
    "        Point(150, 80),\n",
    "        Point(10, 60),\n",
    "        Point(50, 100),\n",
    "        Point(100, 20),\n",
    "        Point(120, 160),\n",
    "        Point(190, 100),\n",
    "        Point(180, 190),\n",
    "    ],\n",
    "    color=\"blue\",\n",
    ")"
   ]
  },
  {
   "cell_type": "code",
   "execution_count": 2562,
   "id": "2248fa0a",
   "metadata": {},
   "outputs": [
    {
     "data": {
      "text/plain": [
       "'CONCAVE'"
      ]
     },
     "execution_count": 2562,
     "metadata": {},
     "output_type": "execute_result"
    }
   ],
   "source": [
    "p0.convex_type"
   ]
  },
  {
   "cell_type": "code",
   "execution_count": 2563,
   "id": "9f634835",
   "metadata": {},
   "outputs": [
    {
     "data": {
      "text/plain": [
       "'SELF_INTERSECTED'"
      ]
     },
     "execution_count": 2563,
     "metadata": {},
     "output_type": "execute_result"
    }
   ],
   "source": [
    "p0.simple_type"
   ]
  },
  {
   "cell_type": "code",
   "execution_count": 2564,
   "id": "35096efc",
   "metadata": {},
   "outputs": [
    {
     "data": {
      "text/plain": [
       "[<__main__.Polygon at 0x160b6fa8770>,\n",
       " <__main__.Polygon at 0x160b6faac60>,\n",
       " <__main__.Polygon at 0x160b6faa480>,\n",
       " <__main__.Polygon at 0x160b6fabb90>]"
      ]
     },
     "execution_count": 2564,
     "metadata": {},
     "output_type": "execute_result"
    }
   ],
   "source": [
    "p0.simple_polygon_list"
   ]
  },
  {
   "cell_type": "code",
   "execution_count": 2565,
   "id": "77c62738",
   "metadata": {},
   "outputs": [
    {
     "data": {
      "text/plain": [
       "-1800.0"
      ]
     },
     "execution_count": 2565,
     "metadata": {},
     "output_type": "execute_result"
    }
   ],
   "source": [
    "p0.signed_area"
   ]
  },
  {
   "cell_type": "code",
   "execution_count": 2566,
   "id": "0b5b43e7",
   "metadata": {},
   "outputs": [
    {
     "data": {
      "text/plain": [
       "'CW'"
      ]
     },
     "execution_count": 2566,
     "metadata": {},
     "output_type": "execute_result"
    }
   ],
   "source": [
    "p0.rotation"
   ]
  },
  {
   "cell_type": "code",
   "execution_count": 2567,
   "id": "035a2ba7",
   "metadata": {},
   "outputs": [],
   "source": [
    "draw_polygon(p0, draw)"
   ]
  },
  {
   "cell_type": "code",
   "execution_count": 2568,
   "id": "8a4271cb",
   "metadata": {},
   "outputs": [],
   "source": [
    "p1 = Polygon(\n",
    "    vertices=[\n",
    "        Point(10, 10),\n",
    "        Point(40, 100),\n",
    "        Point(100, 150),\n",
    "        Point(50, 180),\n",
    "        Point(70, 10),\n",
    "    ],\n",
    "    color=\"green\",\n",
    ")"
   ]
  },
  {
   "cell_type": "code",
   "execution_count": 2569,
   "id": "bdb1e71a",
   "metadata": {},
   "outputs": [
    {
     "data": {
      "text/plain": [
       "'CONCAVE'"
      ]
     },
     "execution_count": 2569,
     "metadata": {},
     "output_type": "execute_result"
    }
   ],
   "source": [
    "p1.convex_type"
   ]
  },
  {
   "cell_type": "code",
   "execution_count": 2570,
   "id": "06cfc015",
   "metadata": {},
   "outputs": [
    {
     "data": {
      "text/plain": [
       "'SELF_INTERSECTED'"
      ]
     },
     "execution_count": 2570,
     "metadata": {},
     "output_type": "execute_result"
    }
   ],
   "source": [
    "p1.simple_type"
   ]
  },
  {
   "cell_type": "code",
   "execution_count": 2571,
   "id": "9c6e2e4c",
   "metadata": {},
   "outputs": [
    {
     "data": {
      "text/plain": [
       "[<__main__.Polygon at 0x160b5a1e090>, <__main__.Polygon at 0x160b61764b0>]"
      ]
     },
     "execution_count": 2571,
     "metadata": {},
     "output_type": "execute_result"
    }
   ],
   "source": [
    "p1.simple_polygon_list"
   ]
  },
  {
   "cell_type": "code",
   "execution_count": 2572,
   "id": "6b543158",
   "metadata": {},
   "outputs": [],
   "source": [
    "# draw_polygon(p1, draw)"
   ]
  },
  {
   "cell_type": "code",
   "execution_count": 2573,
   "id": "8623801d",
   "metadata": {},
   "outputs": [],
   "source": [
    "p2 = Polygon(\n",
    "    vertices=[\n",
    "        Point(20, 10),\n",
    "        Point(50, 10),\n",
    "        Point(80, 20),\n",
    "        Point(90, 50),\n",
    "        Point(70, 80),\n",
    "        Point(40, 90),\n",
    "        Point(10, 60),\n",
    "    ],\n",
    "    color=\"yellow\",\n",
    ")"
   ]
  },
  {
   "cell_type": "code",
   "execution_count": 2574,
   "id": "2c7f81da",
   "metadata": {},
   "outputs": [
    {
     "data": {
      "text/plain": [
       "'CONVEX'"
      ]
     },
     "execution_count": 2574,
     "metadata": {},
     "output_type": "execute_result"
    }
   ],
   "source": [
    "p2.convex_type"
   ]
  },
  {
   "cell_type": "code",
   "execution_count": 2575,
   "id": "ccc3f55d",
   "metadata": {},
   "outputs": [
    {
     "data": {
      "text/plain": [
       "'SIMPLE'"
      ]
     },
     "execution_count": 2575,
     "metadata": {},
     "output_type": "execute_result"
    }
   ],
   "source": [
    "p2.simple_type"
   ]
  },
  {
   "cell_type": "code",
   "execution_count": 2576,
   "id": "79a73c9d",
   "metadata": {},
   "outputs": [
    {
     "data": {
      "text/plain": [
       "[<__main__.Polygon at 0x160b70e1f70>]"
      ]
     },
     "execution_count": 2576,
     "metadata": {},
     "output_type": "execute_result"
    }
   ],
   "source": [
    "p2.simple_polygon_list"
   ]
  },
  {
   "cell_type": "code",
   "execution_count": 2577,
   "id": "fc81e05d",
   "metadata": {},
   "outputs": [],
   "source": [
    "# draw_polygon(p2, draw)\n",
    "# img.show()"
   ]
  },
  {
   "cell_type": "code",
   "execution_count": 2578,
   "id": "29eb076b",
   "metadata": {},
   "outputs": [],
   "source": [
    "triangle = Polygon(\n",
    "    vertices=[\n",
    "        Point(34, 80),\n",
    "        Point(57, 1),\n",
    "        Point(170, 80),\n",
    "    ],\n",
    "    color=\"yellow\",  # A B  # B C  # C A\n",
    ")"
   ]
  },
  {
   "cell_type": "code",
   "execution_count": 2579,
   "id": "4286523f",
   "metadata": {},
   "outputs": [],
   "source": [
    "def paint_triangle():\n",
    "    edges = [pixelEdge(edge) for edge in triangle.edges]\n",
    "    ABC = edges[0] + edges[1]\n",
    "    i = 0\n",
    "    AC = edges[2][::-1]\n",
    "    j = 0\n",
    "    A = AC[0]\n",
    "    C = AC[-1]\n",
    "    dxAC = abs(A[0] - C[0])\n",
    "    dyAC = abs(A[1] - C[1])\n",
    "    k = 0 if dxAC > dyAC else 1\n",
    "    pixels = []\n",
    "    while ABC[i] != C:\n",
    "        line = pixelLine(*ABC[i], *AC[j])\n",
    "        pixels.extend(line)\n",
    "        i += 1\n",
    "        if AC[j][k] != ABC[i][k]:\n",
    "            j += 1\n",
    "    return pixels"
   ]
  },
  {
   "cell_type": "code",
   "execution_count": 2580,
   "id": "4c58e51b",
   "metadata": {},
   "outputs": [],
   "source": [
    "# draw.point(paint_triangle(), fill=\"red\")\n",
    "\n",
    "\n",
    "img.show()"
   ]
  },
  {
   "cell_type": "code",
   "execution_count": null,
   "id": "1e210c90",
   "metadata": {},
   "outputs": [],
   "source": []
  }
 ],
 "metadata": {
  "kernelspec": {
   "display_name": "Python 3",
   "language": "python",
   "name": "python3"
  },
  "language_info": {
   "codemirror_mode": {
    "name": "ipython",
    "version": 3
   },
   "file_extension": ".py",
   "mimetype": "text/x-python",
   "name": "python",
   "nbconvert_exporter": "python",
   "pygments_lexer": "ipython3",
   "version": "3.12.10"
  }
 },
 "nbformat": 4,
 "nbformat_minor": 5
}
