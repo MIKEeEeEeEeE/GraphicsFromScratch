{
 "cells": [
  {
   "cell_type": "code",
   "execution_count": 1736,
   "id": "2709be75",
   "metadata": {},
   "outputs": [],
   "source": [
    "import numpy as np\n",
    "from PIL import Image, ImageDraw, ImageColor"
   ]
  },
  {
   "cell_type": "code",
   "execution_count": 1737,
   "id": "4c67646f",
   "metadata": {},
   "outputs": [],
   "source": [
    "class RotationTranslationMatrix:\n",
    "    def __init__(self, m) -> None:\n",
    "        assert m.shape[0] == m.shape[1]\n",
    "        self.m = m"
   ]
  },
  {
   "cell_type": "code",
   "execution_count": 1738,
   "id": "9427005f",
   "metadata": {},
   "outputs": [],
   "source": [
    "class Vector:\n",
    "    def __init__(self, v):\n",
    "        self.v = v\n",
    "\n",
    "    def __eq__(self, __o):\n",
    "        return np.allclose(self.v, __o.v)\n",
    "\n",
    "    def __add__(self, __o):\n",
    "        return Vector(self.v + __o.v)\n",
    "\n",
    "    def __sub__(self, __o):\n",
    "        return Vector(self.v - __o.v)\n",
    "\n",
    "    def __mul__(self, __o):\n",
    "        return Vector(self.v * __o)\n",
    "\n",
    "    def norm(self):\n",
    "        return np.linalg.norm(self.v)\n",
    "\n",
    "    def unit(self):\n",
    "        return self.v / self.norm()\n",
    "    \n",
    "    def __repr__(self) -> str:\n",
    "        return f\"Vector {self.v}\""
   ]
  },
  {
   "cell_type": "code",
   "execution_count": 1739,
   "id": "0be9805a",
   "metadata": {},
   "outputs": [],
   "source": [
    "class Point:\n",
    "    def __init__(self, *xyz, nparr=None):\n",
    "        self.xyz = np.array(xyz) if xyz else nparr\n",
    "\n",
    "    def as_affine(self):\n",
    "        self.xyz = self.xyz[:-1] / self.xyz[-1]\n",
    "\n",
    "    def as_homogenious(self):\n",
    "        self.xyz = np.append(self.xyz, 1) # return new?\n",
    "\n",
    "    def to_vec(self):\n",
    "        return Vector(self.xyz)\n",
    "\n",
    "    def __eq__(self, __o):\n",
    "        return np.allclose(self.xyz, __o.xyz)\n",
    "\n",
    "    def __add__(self, __o: Vector):\n",
    "        return Point(nparr=self.xyz + __o.v)\n",
    "\n",
    "    def __sub__(self, __o):\n",
    "        return Vector(self.xyz - __o.xyz)\n",
    "\n",
    "    # def __mul__(self, __o):\n",
    "    #     return Point(self.xyz * __o)\n",
    "\n",
    "    # def __matmul__(self, m):\n",
    "    #     return Vector(self.as_homogenious() @ m).to_affine()\n",
    "\n",
    "    def __repr__(self) -> str:\n",
    "        return f\"Point {self.xyz}\""
   ]
  },
  {
   "cell_type": "code",
   "execution_count": 1740,
   "id": "4eec7ec0",
   "metadata": {},
   "outputs": [],
   "source": [
    "class Edge:\n",
    "    def __init__(\n",
    "        self,\n",
    "        a,\n",
    "        b,\n",
    "    ):\n",
    "        self.a = a\n",
    "        self.b = b\n",
    "        self.v = b - a\n",
    "\n",
    "    def __eq__(self, __o):\n",
    "        return (\n",
    "            self.a == __o.a and self.b == __o.b or self.a == __o.b and self.b == __o.a\n",
    "        )\n",
    "\n",
    "    def normal(self, viewpoint):\n",
    "        v_a = self.a - viewpoint\n",
    "        v_b = self.b - self.a\n",
    "        proj = np.dot(v_a, v_b) * v_b / v_b.norm() ** 2\n",
    "        n = (v_a - proj).unit()\n",
    "        return n\n",
    "\n",
    "    def __repr__(self) -> str:\n",
    "        return f\"Edge <{self.a} {self.b}>\""
   ]
  },
  {
   "cell_type": "code",
   "execution_count": 1741,
   "id": "f43ec26c",
   "metadata": {},
   "outputs": [],
   "source": [
    "# TODO\n",
    "# 1) REDEFINE INITIALIZATION ✅\n",
    "# 2) DEFINE ROTATION (CLOCKWISE / COUNTERCLOCKWISE)\n",
    "# 3) DEFINE NORMALS FOR EDGES\n",
    "# 4) DELAUNEY TRIANGUALTION\n",
    "# 5) SPLIT EDGES AND VERTICES\n",
    "\n",
    "\n",
    "class Polygon:\n",
    "    def __init__(self, **kwargs) -> None:\n",
    "\n",
    "        self.vertices = None\n",
    "        self.edges = None\n",
    "        self.rotation = None\n",
    "        self.L = None\n",
    "        self.convex_type = None\n",
    "        self.simple_type = None\n",
    "        self.triangluation = None\n",
    "        self.split_edges = None\n",
    "        self.split_vertices = None\n",
    "        self.color = \"black\"\n",
    "        self.__dict__.update(kwargs)\n",
    "\n",
    "        assert self.vertices or self.edges, \"Polygon: vertices and edges are empty\"\n",
    "\n",
    "        if self.edges is None: \n",
    "            self._edges()\n",
    "\n",
    "        if self.vertices is None: \n",
    "            self._vertices()\n",
    "\n",
    "        if self.L is None: \n",
    "            self.L = len(self.vertices)\n",
    "\n",
    "        if self.convex_type is None:\n",
    "            self._convex_type()\n",
    "\n",
    "        if self.simple_type is None:\n",
    "            self._simple_type()\n",
    "\n",
    "        if self.split_edges is None:\n",
    "            self.split_edges = []\n",
    "            self.split_vertices = []\n",
    "            self._split_edges_and_vertices()\n",
    "\n",
    "        if self.rotation is None:\n",
    "            self._rotation()\n",
    "\n",
    "        if self.triangluation is None:\n",
    "            self.triangluation = self._triangluation()\n",
    "\n",
    "        self.color_rgb = ImageColor.getrgb(self.color)\n",
    "\n",
    "    def _edges(self):\n",
    "        self.edges = [\n",
    "            Edge(p1, p2)\n",
    "            for p1, p2 in zip(\n",
    "                self.vertices, self.vertices[1:] + [self.vertices[0]]\n",
    "            )\n",
    "        ]\n",
    "\n",
    "    def _vertices(self):\n",
    "        self.vertices = [edge[0] for edge in self.edges]\n",
    "\n",
    "    def _convex_type(self):\n",
    "        flag = None\n",
    "        for i in range(self.L):\n",
    "            for j in range(i + 1, i + self.L - 1):\n",
    "                cl_type = classifyEdgePoint(self.edges[j % self.L], self.vertices[i])\n",
    "                if flag is None:\n",
    "                    flag = cl_type\n",
    "                elif flag != cl_type:\n",
    "                    self.convex_type = \"CONCAVE\"\n",
    "                    return\n",
    "        self.convex_type = \"CONVEX\"\n",
    "\n",
    "    def _simple_type(self):\n",
    "        flag = \"SIMPLE\"\n",
    "        intersection_pairs = {}\n",
    "        for i in range(self.L - 1):\n",
    "            for j in range(i + 2, self.L):\n",
    "                if i == (j + 1) % self.L:\n",
    "                    continue\n",
    "                vi, vj = self.edges[i], self.edges[j]\n",
    "                cross_type, ti = crossEdges(vi, vj)\n",
    "                if cross_type == \"SKEW_CROSS\":\n",
    "                    intersection_point = vi.a + (vi.b - vi.a) * ti\n",
    "                    tj = (intersection_point - vj.a).norm() / vj.v.norm()\n",
    "                    intersection_pairs[(i, j)] = (intersection_point, ti, tj)\n",
    "                    flag = \"SELF_INTERSECTED\"\n",
    "        self.simple_type = flag\n",
    "        self._intersection_pairs = intersection_pairs\n",
    "\n",
    "    def _rotation(self):\n",
    "        signed_area = self.signed_area()\n",
    "        if signed_area > 0:\n",
    "            self.rotation = \"CCW\"\n",
    "        else:\n",
    "            self.rotation = \"CW\"\n",
    "\n",
    "    def _split_edges_and_vertices(self):\n",
    "        # Step 1: Collect intersection points per edge\n",
    "        splits = {}  # edge_idx -> [(t_param, point), ...]\n",
    "        for (i, j), (point, ti, tj) in self._intersection_pairs.items():\n",
    "            for idx, t in ((i, ti), (j, tj)):\n",
    "                splits.setdefault(idx, []).append((t, point))\n",
    "        \n",
    "        # Sort splits by parameter t for each edge\n",
    "        for split_list in splits.values():\n",
    "            split_list.sort(key=lambda x: x[0])\n",
    "        \n",
    "        # Build new edges from sorted splits\n",
    "        split_edges = {}\n",
    "        for idx, split_list in splits.items():\n",
    "            edge = self.edges[idx]\n",
    "            segments = [edge.a] + [pt for _, pt in split_list] + [edge.b]\n",
    "            split_edges[idx] = [Edge(segments[i], segments[i+1]) for i in range(len(segments)-1)]\n",
    "\n",
    "        stack_edges = [[]]\n",
    "        stack_vetrices = [[]]\n",
    "        for i in range(self.L): \n",
    "            if i not in split_edges:\n",
    "                stack_edges[-1].append(self.edges[i])\n",
    "                stack_vetrices[-1].append(self.vertices[i])\n",
    "                if len(stack_edges[-1]) > 1 and \\\n",
    "                    stack_edges[-1][0].a == stack_edges[-1][-1].b:\n",
    "                    self.split_edges.append(stack_edges.pop())\n",
    "                    self.split_vertices.append(stack_vetrices.pop())\n",
    "            else:\n",
    "                for edge in split_edges[i]:\n",
    "                    stack_edges[-1].append(edge)\n",
    "                    stack_vetrices[-1].append(edge.a)\n",
    "                    if len(stack_edges[-1]) > 1 and \\\n",
    "                        stack_edges[-1][0].a == stack_edges[-1][-1].b:\n",
    "                        self.split_edges.append(stack_edges.pop())\n",
    "                        self.split_vertices.append(stack_vetrices.pop())\n",
    "                    else:\n",
    "                        stack_edges.append([])\n",
    "                        stack_vetrices.append([])\n",
    "                if stack_edges:\n",
    "                    del stack_edges[-1]\n",
    "                    del stack_vetrices[-1]\n",
    "    \n",
    "\n",
    "    def signed_area(self):\n",
    "        for edges in self.split_edges:\n",
    "            print(0.5 * sum(np.cross(edge.a.xyz, edge.b.xyz) for edge in edges))\n",
    "        signed_area = 0.5 * sum(np.cross(edge.a.xyz, edge.b.xyz) for edges in self.split_edges for edge in edges)\n",
    "        return signed_area\n",
    "    \n",
    "\n",
    "    def EO(self, p):\n",
    "        intersection_sum = 0\n",
    "        for edge in self.edges:\n",
    "            match classifyEdgePoint(edge, p):\n",
    "                case \"TOUCHING\":\n",
    "                    return \"INSIDE\"\n",
    "                case \"CROSS_LEFT\":\n",
    "                    intersection_sum += 1\n",
    "                case \"CROSS_RIGHT\":\n",
    "                    intersection_sum += 1\n",
    "        if intersection_sum % 2 == 1:\n",
    "            return \"INSIDE\"\n",
    "        return \"OUTSIDE\"\n",
    "\n",
    "    def NZW(self, p):\n",
    "        winding_number = 0\n",
    "        for edge in self.edges:\n",
    "            match classifyEdgePoint(edge, p):\n",
    "                case \"TOUCHING\":\n",
    "                    return \"INSIDE\"\n",
    "                case \"CROSS_LEFT\":\n",
    "                    winding_number += 1\n",
    "                case \"CROSS_RIGHT\":\n",
    "                    winding_number -= 1\n",
    "        if winding_number == 0:\n",
    "            return \"OUTSIDE\"\n",
    "        return \"INSIDE\"\n",
    "\n",
    "    def _triangluation(self):\n",
    "        return 1\n",
    "    #     # return adjacency matrix?\n",
    "    #     all_points = self.vertices\n",
    "    #     for edge in self.edges:\n",
    "    #         all_points.extend(edge.intersection_points())\n",
    "    #     all_points = sorted(all_points, lambda x: x.xyz[0])\n",
    "    #     triangualtion = Polygon(*all_points[:3], color=tricolor)\n",
    "    #     for point in all_points[3:]:\n",
    "    #         for edge in triangualtion:\n",
    "    #             view_dir = Vector(edge[0] - point)\n",
    "    #         poly = Polygon(\n",
    "    #             edges=triangualtion.edges+[Edge(v, point) for v in triangualtion.vertices],\n",
    "    #             color=tricolor\n",
    "    #         )"
   ]
  },
  {
   "cell_type": "code",
   "execution_count": 1742,
   "id": "6f945641",
   "metadata": {},
   "outputs": [],
   "source": [
    "def edge_visible(): ..."
   ]
  },
  {
   "cell_type": "code",
   "execution_count": 1743,
   "id": "4474d0ca",
   "metadata": {},
   "outputs": [],
   "source": [
    "def check_edge_visibility(face, view_direction=np.array([0, 0, 1000])):\n",
    "    v1, v2, v3, *_ = face\n",
    "    normal = np.cross(np.array([*(v3 - v1)]), np.array([*(v2 - v1)]))\n",
    "    dot_product = np.dot(normal, view_direction)\n",
    "    return dot_product <= 0"
   ]
  },
  {
   "cell_type": "code",
   "execution_count": 1744,
   "id": "fb02b3b2",
   "metadata": {},
   "outputs": [],
   "source": [
    "def draw_polygon(polygon, draw):\n",
    "    for edge in polygon.edges:\n",
    "        draw.point(pixelEdge(edge), fill=polygon.color)"
   ]
  },
  {
   "cell_type": "code",
   "execution_count": 1745,
   "id": "83cb0a23",
   "metadata": {},
   "outputs": [],
   "source": [
    "def pixelLine(x1, y1, x2, y2):\n",
    "    dx = x2 - x1\n",
    "    dy = y2 - y1\n",
    "    ix = 1 if dx > 0 else -1\n",
    "    iy = 1 if dy > 0 else -1\n",
    "    dx *= ix\n",
    "    dy *= iy\n",
    "    x = x1\n",
    "    y = y1\n",
    "    pixels = []\n",
    "    if dx < dy:\n",
    "        E = 2 * dx - dy\n",
    "        for _ in range(dy + 1):\n",
    "            pixels.append((x, y))\n",
    "            if E >= 0:\n",
    "                x += ix\n",
    "                E -= 2 * dy\n",
    "            y += iy\n",
    "            E += 2 * dx\n",
    "    else:\n",
    "        E = 2 * dy - dx\n",
    "        for _ in range(dx + 1):\n",
    "            pixels.append((x, y))\n",
    "            if E >= 0:\n",
    "                y += iy\n",
    "                E -= 2 * dx\n",
    "            x += ix\n",
    "            E += 2 * dy\n",
    "    return pixels\n",
    "\n",
    "\n",
    "def pixelEdge(e):\n",
    "    x1, y1, x2, y2 = (\n",
    "        round(e.a.xyz[0]),\n",
    "        round(e.a.xyz[1]),\n",
    "        round(e.b.xyz[0]),\n",
    "        round(e.b.xyz[1]),\n",
    "    )\n",
    "    return pixelLine(x1, y1, x2, y2)"
   ]
  },
  {
   "cell_type": "code",
   "execution_count": 1746,
   "id": "f1b4a399",
   "metadata": {},
   "outputs": [],
   "source": [
    "def classify(x1, y1, x2, y2, x, y):\n",
    "    ax = x2 - x1\n",
    "    ay = y2 - y1\n",
    "    bx = x - x1\n",
    "    by = y - y1\n",
    "    s = ax * by - ay * bx\n",
    "    if s > 0:\n",
    "        return \"LEFT\"\n",
    "    if s < 0:\n",
    "        return \"RIGHT\"\n",
    "    if ax * bx < 0 or ay * by < 0:\n",
    "        return \"BEHIND\"\n",
    "    if ax**2 + ay**2 < bx**2 + by**2:\n",
    "        return \"INFRONT\"\n",
    "    if x == x1 and y == y1:\n",
    "        return \"ORIGIN\"\n",
    "    if x == x2 and y == y2:\n",
    "        return \"DESTINATION\"\n",
    "    return \"BETWEEN\"\n",
    "\n",
    "\n",
    "def classifyEdgePoint(e, p):\n",
    "    return classify(*e.a.xyz, *e.b.xyz, *p.xyz)"
   ]
  },
  {
   "cell_type": "code",
   "execution_count": 1747,
   "id": "4b9aa4e1",
   "metadata": {},
   "outputs": [],
   "source": [
    "def intersect(ax, ay, bx, by, cx, cy, dx, dy):\n",
    "    nx = dy - cy\n",
    "    ny = cx - dx\n",
    "    denom = nx * (bx - ax) + ny * (by - ay)\n",
    "    if denom == 0:\n",
    "        type = classify(cx, cy, dx, dy, ax, ay)\n",
    "        if type == \"LEFT\" or type == \"RIGHT\":\n",
    "            return \"PARALLEL\", None\n",
    "        else:\n",
    "            return \"SAME\", None\n",
    "    num = nx * (ax - cx) + ny * (ay - cy)\n",
    "    t = -num / denom\n",
    "    return \"SKEW\", t\n",
    "\n",
    "\n",
    "def intersectEdges(e1, e2):\n",
    "    return intersect(*e1.a.xyz, *e1.b.xyz, *e2.a.xyz, *e2.b.xyz)"
   ]
  },
  {
   "cell_type": "code",
   "execution_count": 1748,
   "id": "898e2fb9",
   "metadata": {},
   "outputs": [],
   "source": [
    "def cross(ax, ay, bx, by, cx, cy, dx, dy):\n",
    "    type, tab = intersect(ax, ay, bx, by, cx, cy, dx, dy)\n",
    "    if type == \"SAME\" or type == \"PARALLEL\" or tab is None:\n",
    "        return type, None\n",
    "    if tab < 0 or tab > 1:\n",
    "        return \"SKEW_NO_CROSS\", None\n",
    "    _, tcd = intersect(cx, cy, dx, dy, ax, ay, bx, by)\n",
    "    if tcd is not None and (tcd < 0 or tcd > 1):\n",
    "        return \"SKEW_NO_CROSS\", None\n",
    "    return \"SKEW_CROSS\", tab\n",
    "\n",
    "\n",
    "def crossEdges(e1, e2):\n",
    "    return cross(*e1.a.xyz, *e1.b.xyz, *e2.a.xyz, *e2.b.xyz)"
   ]
  },
  {
   "cell_type": "code",
   "execution_count": 1749,
   "id": "ff863736",
   "metadata": {},
   "outputs": [],
   "source": [
    "img = Image.new(\"RGB\", (200, 200), \"white\")\n",
    "draw = ImageDraw.Draw(img)"
   ]
  },
  {
   "cell_type": "code",
   "execution_count": 1750,
   "id": "84ab52c4",
   "metadata": {},
   "outputs": [
    {
     "name": "stdout",
     "output_type": "stream",
     "text": [
      "-1022.9508196721315\n",
      "1005.2424863387978\n",
      "1140.0\n",
      "-2922.291666666666\n"
     ]
    }
   ],
   "source": [
    "p0 = Polygon(\n",
    "    vertices=[\n",
    "        Point(150, 80),\n",
    "        Point(10, 60),\n",
    "        Point(50, 100),\n",
    "        Point(100, 20),\n",
    "        Point(120, 160),\n",
    "        Point(190, 100),\n",
    "        Point(180, 190),\n",
    "    ],\n",
    "    color=\"blue\"\n",
    ")"
   ]
  },
  {
   "cell_type": "code",
   "execution_count": 1751,
   "id": "2248fa0a",
   "metadata": {},
   "outputs": [
    {
     "data": {
      "text/plain": [
       "'CONCAVE'"
      ]
     },
     "execution_count": 1751,
     "metadata": {},
     "output_type": "execute_result"
    }
   ],
   "source": [
    "p0.convex_type"
   ]
  },
  {
   "cell_type": "code",
   "execution_count": 1752,
   "id": "9f634835",
   "metadata": {},
   "outputs": [
    {
     "data": {
      "text/plain": [
       "'SELF_INTERSECTED'"
      ]
     },
     "execution_count": 1752,
     "metadata": {},
     "output_type": "execute_result"
    }
   ],
   "source": [
    "p0.simple_type"
   ]
  },
  {
   "cell_type": "code",
   "execution_count": 1753,
   "id": "35096efc",
   "metadata": {},
   "outputs": [
    {
     "data": {
      "text/plain": [
       "[[Edge <Point [69.67213115 68.52459016] Point [10 60]>,\n",
       "  Edge <Point [10 60] Point [ 50 100]>,\n",
       "  Edge <Point [ 50 100] Point [69.67213115 68.52459016]>],\n",
       " [Edge <Point [107.70833333  73.95833333] Point [69.67213115 68.52459016]>,\n",
       "  Edge <Point [69.67213115 68.52459016] Point [100  20]>,\n",
       "  Edge <Point [100  20] Point [107.70833333  73.95833333]>],\n",
       " [Edge <Point [162. 124.] Point [190 100]>,\n",
       "  Edge <Point [190 100] Point [180 190]>,\n",
       "  Edge <Point [180 190] Point [162. 124.]>],\n",
       " [Edge <Point [150  80] Point [107.70833333  73.95833333]>,\n",
       "  Edge <Point [107.70833333  73.95833333] Point [120 160]>,\n",
       "  Edge <Point [120 160] Point [162. 124.]>,\n",
       "  Edge <Point [162. 124.] Point [150  80]>]]"
      ]
     },
     "execution_count": 1753,
     "metadata": {},
     "output_type": "execute_result"
    }
   ],
   "source": [
    "p0.split_edges"
   ]
  },
  {
   "cell_type": "code",
   "execution_count": 1754,
   "id": "77c62738",
   "metadata": {},
   "outputs": [
    {
     "name": "stdout",
     "output_type": "stream",
     "text": [
      "-1022.9508196721315\n",
      "1005.2424863387978\n",
      "1140.0\n",
      "-2922.291666666666\n"
     ]
    },
    {
     "data": {
      "text/plain": [
       "-1800.0"
      ]
     },
     "execution_count": 1754,
     "metadata": {},
     "output_type": "execute_result"
    }
   ],
   "source": [
    "p0.signed_area()"
   ]
  },
  {
   "cell_type": "code",
   "execution_count": 1755,
   "id": "0b5b43e7",
   "metadata": {},
   "outputs": [
    {
     "data": {
      "text/plain": [
       "'CW'"
      ]
     },
     "execution_count": 1755,
     "metadata": {},
     "output_type": "execute_result"
    }
   ],
   "source": [
    "p0.rotation"
   ]
  },
  {
   "cell_type": "code",
   "execution_count": 1756,
   "id": "035a2ba7",
   "metadata": {},
   "outputs": [],
   "source": [
    "draw_polygon(p0, draw)"
   ]
  },
  {
   "cell_type": "code",
   "execution_count": 1757,
   "id": "8a4271cb",
   "metadata": {},
   "outputs": [
    {
     "name": "stdout",
     "output_type": "stream",
     "text": [
      "1516.5178571428569\n",
      "-3716.517857142857\n"
     ]
    }
   ],
   "source": [
    "p1 = Polygon(\n",
    "    vertices=[\n",
    "        Point(10, 10),\n",
    "        Point(40, 100),\n",
    "        Point(100, 150),\n",
    "        Point(50, 180),\n",
    "        Point(70, 10),\n",
    "    ],\n",
    "    color=\"green\",\n",
    ")"
   ]
  },
  {
   "cell_type": "code",
   "execution_count": 1758,
   "id": "bdb1e71a",
   "metadata": {},
   "outputs": [
    {
     "data": {
      "text/plain": [
       "'CONCAVE'"
      ]
     },
     "execution_count": 1758,
     "metadata": {},
     "output_type": "execute_result"
    }
   ],
   "source": [
    "p1.convex_type"
   ]
  },
  {
   "cell_type": "code",
   "execution_count": 1759,
   "id": "06cfc015",
   "metadata": {},
   "outputs": [
    {
     "data": {
      "text/plain": [
       "'SELF_INTERSECTED'"
      ]
     },
     "execution_count": 1759,
     "metadata": {},
     "output_type": "execute_result"
    }
   ],
   "source": [
    "p1.simple_type"
   ]
  },
  {
   "cell_type": "code",
   "execution_count": 1760,
   "id": "9c6e2e4c",
   "metadata": {},
   "outputs": [
    {
     "data": {
      "text/plain": [
       "[[Edge <Point [ 57.67857143 114.73214286] Point [100 150]>,\n",
       "  Edge <Point [100 150] Point [ 50 180]>,\n",
       "  Edge <Point [ 50 180] Point [ 57.67857143 114.73214286]>],\n",
       " [Edge <Point [10 10] Point [ 40 100]>,\n",
       "  Edge <Point [ 40 100] Point [ 57.67857143 114.73214286]>,\n",
       "  Edge <Point [ 57.67857143 114.73214286] Point [70 10]>,\n",
       "  Edge <Point [70 10] Point [10 10]>]]"
      ]
     },
     "execution_count": 1760,
     "metadata": {},
     "output_type": "execute_result"
    }
   ],
   "source": [
    "p1.split_edges"
   ]
  },
  {
   "cell_type": "code",
   "execution_count": 1761,
   "id": "6b543158",
   "metadata": {},
   "outputs": [],
   "source": [
    "# draw_polygon(p1, draw)"
   ]
  },
  {
   "cell_type": "code",
   "execution_count": 1762,
   "id": "8623801d",
   "metadata": {},
   "outputs": [
    {
     "name": "stdout",
     "output_type": "stream",
     "text": [
      "4650.0\n"
     ]
    }
   ],
   "source": [
    "p2 = Polygon(\n",
    "    vertices=[\n",
    "        Point(20, 10),\n",
    "        Point(50, 10),\n",
    "        Point(80, 20),\n",
    "        Point(90, 50),\n",
    "        Point(70, 80),\n",
    "        Point(40, 90),\n",
    "        Point(10, 60),\n",
    "    ],\n",
    "    color=\"yellow\",\n",
    ")"
   ]
  },
  {
   "cell_type": "code",
   "execution_count": 1763,
   "id": "2c7f81da",
   "metadata": {},
   "outputs": [
    {
     "data": {
      "text/plain": [
       "'CONVEX'"
      ]
     },
     "execution_count": 1763,
     "metadata": {},
     "output_type": "execute_result"
    }
   ],
   "source": [
    "p2.convex_type"
   ]
  },
  {
   "cell_type": "code",
   "execution_count": 1764,
   "id": "ccc3f55d",
   "metadata": {},
   "outputs": [
    {
     "data": {
      "text/plain": [
       "'SIMPLE'"
      ]
     },
     "execution_count": 1764,
     "metadata": {},
     "output_type": "execute_result"
    }
   ],
   "source": [
    "p2.simple_type"
   ]
  },
  {
   "cell_type": "code",
   "execution_count": 1765,
   "id": "79a73c9d",
   "metadata": {},
   "outputs": [
    {
     "data": {
      "text/plain": [
       "[[Edge <Point [20 10] Point [50 10]>,\n",
       "  Edge <Point [50 10] Point [80 20]>,\n",
       "  Edge <Point [80 20] Point [90 50]>,\n",
       "  Edge <Point [90 50] Point [70 80]>,\n",
       "  Edge <Point [70 80] Point [40 90]>,\n",
       "  Edge <Point [40 90] Point [10 60]>,\n",
       "  Edge <Point [10 60] Point [20 10]>]]"
      ]
     },
     "execution_count": 1765,
     "metadata": {},
     "output_type": "execute_result"
    }
   ],
   "source": [
    "p2.split_edges"
   ]
  },
  {
   "cell_type": "code",
   "execution_count": 1766,
   "id": "fc81e05d",
   "metadata": {},
   "outputs": [],
   "source": [
    "# draw_polygon(p2, draw)\n",
    "# img.show()"
   ]
  },
  {
   "cell_type": "code",
   "execution_count": 1767,
   "id": "29eb076b",
   "metadata": {},
   "outputs": [
    {
     "name": "stdout",
     "output_type": "stream",
     "text": [
      "5372.0\n"
     ]
    }
   ],
   "source": [
    "triangle = Polygon(\n",
    "    vertices=[\n",
    "        Point(34, 80), \n",
    "        Point(57, 1), \n",
    "        Point(170, 80),\n",
    "        ], \n",
    "        color=\"yellow\"  # A B  # B C  # C A\n",
    ")"
   ]
  },
  {
   "cell_type": "code",
   "execution_count": 1768,
   "id": "4286523f",
   "metadata": {},
   "outputs": [],
   "source": [
    "def paint_triangle():\n",
    "    edges = [pixelEdge(edge) for edge in triangle.edges]\n",
    "    ABC = edges[0] + edges[1]\n",
    "    i = 0\n",
    "    AC = edges[2][::-1]\n",
    "    j = 0\n",
    "    A = AC[0]\n",
    "    C = AC[-1]\n",
    "    dxAC = abs(A[0] - C[0])\n",
    "    dyAC = abs(A[1] - C[1])\n",
    "    k = 0 if dxAC > dyAC else 1\n",
    "    pixels = []\n",
    "    while ABC[i] != C:\n",
    "        line = pixelLine(*ABC[i], *AC[j])\n",
    "        pixels.extend(line)\n",
    "        i += 1\n",
    "        if AC[j][k] != ABC[i][k]:\n",
    "            j += 1\n",
    "    return pixels"
   ]
  },
  {
   "cell_type": "code",
   "execution_count": 1769,
   "id": "4c58e51b",
   "metadata": {},
   "outputs": [],
   "source": [
    "# draw.point(paint_triangle(), fill=\"red\")\n",
    "img.show()"
   ]
  }
 ],
 "metadata": {
  "kernelspec": {
   "display_name": "Python 3",
   "language": "python",
   "name": "python3"
  },
  "language_info": {
   "codemirror_mode": {
    "name": "ipython",
    "version": 3
   },
   "file_extension": ".py",
   "mimetype": "text/x-python",
   "name": "python",
   "nbconvert_exporter": "python",
   "pygments_lexer": "ipython3",
   "version": "3.12.10"
  }
 },
 "nbformat": 4,
 "nbformat_minor": 5
}
