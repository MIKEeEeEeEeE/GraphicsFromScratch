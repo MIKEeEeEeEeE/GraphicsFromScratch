{
 "cells": [
  {
   "cell_type": "code",
   "execution_count": 3297,
   "id": "2709be75",
   "metadata": {},
   "outputs": [],
   "source": [
    "import numpy as np\n",
    "from PIL import Image, ImageDraw, ImageColor"
   ]
  },
  {
   "cell_type": "code",
   "execution_count": 3298,
   "id": "4c67646f",
   "metadata": {},
   "outputs": [],
   "source": [
    "class RotationTranslationMatrix:\n",
    "    def __init__(self, m) -> None:\n",
    "        assert m.shape[0] == m.shape[1]\n",
    "        self.m = m"
   ]
  },
  {
   "cell_type": "code",
   "execution_count": 3299,
   "id": "9427005f",
   "metadata": {},
   "outputs": [],
   "source": [
    "class Vector:\n",
    "    def __init__(self, v):\n",
    "        if v.dtype != np.float16:\n",
    "            v = v.astype(np.float16)\n",
    "        self.v = v\n",
    "\n",
    "    def __eq__(self, __o):\n",
    "        return np.all(self.v == __o.v)\n",
    "\n",
    "    def __add__(self, __o):\n",
    "        return Vector(self.v + __o.v)\n",
    "\n",
    "    def __sub__(self, __o):\n",
    "        return Vector(self.v - __o.v)\n",
    "\n",
    "    def __mul__(self, __o):\n",
    "        return Vector(self.v * __o)\n",
    "    \n",
    "    def to_PointV(self):\n",
    "        return PointV(v=self.v)\n",
    "\n",
    "    def norm(self):\n",
    "        return np.linalg.norm(self.v)\n",
    "\n",
    "    def unit(self):\n",
    "        return self.v / self.norm()\n",
    "\n",
    "    def __repr__(self) -> str:\n",
    "        return f\"Vector {self.v}\""
   ]
  },
  {
   "cell_type": "code",
   "execution_count": 3300,
   "id": "0be9805a",
   "metadata": {},
   "outputs": [],
   "source": [
    "class PointV:\n",
    "    def __init__(self, *xyz, v=None):\n",
    "        if xyz:\n",
    "            self.v = np.array(xyz, dtype=np.float16) \n",
    "        else:\n",
    "            if v.dtype != np.float16:\n",
    "                v = v.astype(np.float16)\n",
    "            self.v = v\n",
    "\n",
    "    def v_affine(self):\n",
    "        return self.v[:-1] / self.v[-1]\n",
    "\n",
    "    def v_homogenious(self):\n",
    "        return np.append(self.v, 1) \n",
    "    \n",
    "    def __hash__(self) -> int:\n",
    "        return hash(self.v.tobytes())\n",
    "\n",
    "    def __eq__(self, __o):\n",
    "        return np.all(self.v == __o.v)\n",
    "\n",
    "    def __add__(self, __o):\n",
    "        if isinstance(__o, PointV):\n",
    "            return PointV(v=self.v + __o.v)\n",
    "        return PointV(v=self.v + __o)\n",
    "\n",
    "    def __sub__(self, __o):\n",
    "        return PointV(v=self.v - __o.v)\n",
    "\n",
    "    def __mul__(self, value):\n",
    "        return PointV(v=self.v * value)\n",
    "    \n",
    "    def __truediv__(self, value):\n",
    "        return PointV(v=self.v / value)\n",
    "    \n",
    "    def norm(self):\n",
    "        return np.linalg.norm(self.v)\n",
    "\n",
    "    def unit(self):\n",
    "        return self.v / self.norm()\n",
    "\n",
    "    def __matmul__(self, m):\n",
    "        return PointVV(self.v_homogenious() @ m).v_affine()\n",
    "\n",
    "    def __repr__(self) -> str:\n",
    "        return f\"PointV {self.v}\""
   ]
  },
  {
   "cell_type": "code",
   "execution_count": 3301,
   "id": "4eec7ec0",
   "metadata": {},
   "outputs": [],
   "source": [
    "class Edge:\n",
    "    def __init__(\n",
    "        self,\n",
    "        a,\n",
    "        b,\n",
    "    ):\n",
    "        self.a = a\n",
    "        self.b = b\n",
    "        self.v = b - a\n",
    "        self.normal = None\n",
    "\n",
    "    def __eq__(self, __o):\n",
    "        return (\n",
    "            self.a == __o.a and self.b == __o.b or \\\n",
    "                self.a == __o.b and self.b == __o.a\n",
    "        )\n",
    "    \n",
    "    def __hash__(self) -> int:\n",
    "        a_bytes = self.a.v.tobytes()\n",
    "        b_bytes = self.b.v.tobytes()\n",
    "        return hash(tuple(sorted((a_bytes, b_bytes))))\n",
    "\n",
    "    def normal_to(self, viewPointV):\n",
    "        v_a = self.a - viewPointV\n",
    "        v_b = self.b - self.a\n",
    "        proj = v_b * np.dot(v_a.v, v_b.v) * (1 / v_b.norm() ** 2)\n",
    "        n = (v_a - proj).unit()\n",
    "        return n\n",
    "\n",
    "    def __repr__(self) -> str:\n",
    "        return f\"Edge <{self.a} {self.b}>\""
   ]
  },
  {
   "cell_type": "code",
   "execution_count": null,
   "id": "f43ec26c",
   "metadata": {},
   "outputs": [],
   "source": [
    "# TODO\n",
    "# Polygon -> SimplePolygon -> Triangle\n",
    "\n",
    "import functools\n",
    "import operator\n",
    "from ordered_set import OrderedSet\n",
    "\n",
    "class Polygon:\n",
    "    def __init__(self, **kwargs) -> None:\n",
    "\n",
    "        self.vertices = None\n",
    "        self.edges = None\n",
    "        self.rotation = None\n",
    "        self.L = None\n",
    "        self.convex_type = None\n",
    "        self.simple_type = None\n",
    "        self.signed_area = None\n",
    "        self.triangluation = []\n",
    "        self.centroid = None\n",
    "        self.edge_normals = None\n",
    "        self.simple_polygon_list = []\n",
    "        self.color = \"black\"\n",
    "        self.__dict__.update(kwargs)\n",
    "\n",
    "        assert self.vertices or self.edges, \"Polygon: vertices and edges are empty\"\n",
    "\n",
    "        if self.vertices is None:\n",
    "            self._vertices()\n",
    "\n",
    "        if self.edges is None:\n",
    "            self._edges()\n",
    "\n",
    "        if self.L is None:\n",
    "            self.L = len(self.vertices)\n",
    "\n",
    "        if self.convex_type is None:\n",
    "            self._convex_type()\n",
    "\n",
    "        if self.simple_type is None:\n",
    "            self._simple_type()\n",
    "\n",
    "        if self.simple_polygon_list == []:\n",
    "            if self.simple_type == \"SELF_INTERSECTED\":\n",
    "                self._simple_polygon_list()\n",
    "            else:\n",
    "                self.simple_polygon_list = [self]\n",
    "\n",
    "        if self.triangluation == []:\n",
    "            self._triangluation()\n",
    "        \n",
    "        if self.signed_area is None:\n",
    "            self._signed_area()\n",
    "\n",
    "        if self.rotation is None:\n",
    "            self._rotation()\n",
    "        \n",
    "        if self.centroid is None:\n",
    "            self._centroid()\n",
    "\n",
    "        if self.edge_normals is None:\n",
    "            self._edge_normals()\n",
    "\n",
    "        self.color_rgb = ImageColor.getrgb(self.color)\n",
    "\n",
    "    def _edges(self):\n",
    "        self.edges = OrderedSet(\n",
    "            Edge(p1, p2)\n",
    "            for p1, p2 in zip(self.vertices, self.vertices[1:] + [self.vertices[0]])\n",
    "        )\n",
    "\n",
    "    def _vertices(self):\n",
    "        self.vertices = tuple(edge.a for edge in self.edges)\n",
    "\n",
    "    def _convex_type(self):\n",
    "        flag = None\n",
    "        for i in range(self.L):\n",
    "            for j in range(i + 1, i + self.L - 1):\n",
    "                cl_type = classifyEdgePointV(self.edges[j % self.L], self.vertices[i])\n",
    "                if flag is None:\n",
    "                    flag = cl_type\n",
    "                elif flag != cl_type:\n",
    "                    self.convex_type = \"CONCAVE\"\n",
    "                    return\n",
    "        self.convex_type = \"CONVEX\"\n",
    "\n",
    "    def _simple_type(self):\n",
    "        flag = \"SIMPLE\"\n",
    "        intersection_pairs = {}\n",
    "        for i in range(self.L - 1):\n",
    "            for j in range(i + 2, self.L):\n",
    "                if i == (j + 1) % self.L:\n",
    "                    continue\n",
    "                vi, vj = self.edges[i], self.edges[j]\n",
    "                cross_type, ti = crossEdges(vi, vj)\n",
    "                if cross_type == \"SKEW_CROSS\":\n",
    "                    intersection_PointV = vi.a + (vi.b - vi.a) * ti\n",
    "                    tj = (intersection_PointV - vj.a).norm() / vj.v.norm()\n",
    "                    intersection_pairs[(i, j)] = (intersection_PointV, ti, tj)\n",
    "                    flag = \"SELF_INTERSECTED\"\n",
    "        self.simple_type = flag\n",
    "        self._intersection_pairs = intersection_pairs\n",
    "\n",
    "    def _rotation(self):\n",
    "        self.rotation = \"CCW\" if self.signed_area > 0 else \"CW\"\n",
    "\n",
    "    def _simple_polygon_list(self):\n",
    "        # Step 1: Collect intersection PointVs per edge\n",
    "        splits = {}  # edge_idx -> [(t_param, PointV), ...]\n",
    "        for (i, j), (PointV, ti, tj) in self._intersection_pairs.items():\n",
    "            for idx, t in ((i, ti), (j, tj)):\n",
    "                splits.setdefault(idx, []).append((t, PointV))\n",
    "\n",
    "        # Sort splits by parameter t for each edge\n",
    "        for split_list in splits.values():\n",
    "            split_list.sort(key=lambda x: x[0])\n",
    "\n",
    "        # Build new edges from sorted splits\n",
    "        split_edges = {}\n",
    "        for idx, split_list in splits.items():\n",
    "            edge = self.edges[idx]\n",
    "            segments = [edge.a] + [pt for _, pt in split_list] + [edge.b]\n",
    "            split_edges[idx] = [\n",
    "                Edge(segments[i], segments[i + 1]) for i in range(len(segments) - 1)\n",
    "            ]\n",
    "\n",
    "        stack_edges = [[]]\n",
    "        for i in range(self.L):\n",
    "            if i not in split_edges:\n",
    "                stack_edges[-1].append(self.edges[i])\n",
    "                if (\n",
    "                    len(stack_edges[-1]) > 1 and \\\n",
    "                        stack_edges[-1][0].a == stack_edges[-1][-1].b\n",
    "                ):\n",
    "                    self.simple_polygon_list.append(\n",
    "                        Polygon(\n",
    "                            edges=stack_edges.pop(), \n",
    "                            simple_type=\"SIMPLE\",\n",
    "                            color=self.color\n",
    "                            )\n",
    "                        )\n",
    "            else:\n",
    "                for edge in split_edges[i]:\n",
    "                    stack_edges[-1].append(edge)\n",
    "                    if (\n",
    "                        len(stack_edges[-1]) > 1 and \\\n",
    "                            stack_edges[-1][0].a == stack_edges[-1][-1].b\n",
    "                    ):\n",
    "                        self.simple_polygon_list.append(\n",
    "                            Polygon(\n",
    "                                edges=stack_edges.pop(), \n",
    "                                simple_type=\"SIMPLE\",\n",
    "                                color=self.color\n",
    "                                )\n",
    "                            )\n",
    "                    else:\n",
    "                        stack_edges.append([])\n",
    "                if stack_edges:\n",
    "                    del stack_edges[-1]\n",
    "\n",
    "    def _signed_area(self):\n",
    "        self.signed_area = 0.5 * sum(np.cross(edge.a.v, edge.b.v) for edge in self.edges)\n",
    "    \n",
    "    def _edge_normals(self):\n",
    "        for edge in self.edges:\n",
    "            edge.normal = edge.normal_to(viewPointV=self.centroid)\n",
    "\n",
    "    def EO(self, p):\n",
    "        intersection_sum = 0\n",
    "        for edge in self.edges:\n",
    "            match classifyEdgePointV(edge, p):\n",
    "                case \"TOUCHING\":\n",
    "                    return \"INSIDE\"\n",
    "                case \"CROSS_LEFT\":\n",
    "                    intersection_sum += 1\n",
    "                case \"CROSS_RIGHT\":\n",
    "                    intersection_sum += 1\n",
    "        if intersection_sum % 2 == 1:\n",
    "            return \"INSIDE\"\n",
    "        return \"OUTSIDE\"\n",
    "\n",
    "    def NZW(self, p):\n",
    "        winding_number = 0\n",
    "        for edge in self.edges:\n",
    "            match classifyEdgePointV(edge, p):\n",
    "                case \"TOUCHING\":\n",
    "                    return \"INSIDE\"\n",
    "                case \"CROSS_LEFT\":\n",
    "                    winding_number += 1\n",
    "                case \"CROSS_RIGHT\":\n",
    "                    winding_number -= 1\n",
    "        if winding_number == 0:\n",
    "            return \"OUTSIDE\"\n",
    "        return \"INSIDE\"\n",
    "    \n",
    "    def _centroid(self):\n",
    "        self.centroid = functools.reduce(operator.add, self.vertices) / self.L\n",
    "    \n",
    "    def join(self, other: Polygon):\n",
    "        assert self.rotation != other.rotation, \"Polygons should have different rotations\"\n",
    "        self.edges = self.edges.symmetric_difference(other.edges)\n",
    "        self._vertices() \n",
    "\n",
    "    def _triangluation(self):\n",
    "        sorted_PointVs = sorted(self.vertices, key=lambda x: x.v[0])\n",
    "        triangle = Triangle(vertices=sorted_PointVs[:3])\n",
    "        current = triangle\n",
    "        self.triangluation.append(current)\n",
    "        for viewPointV in sorted_PointVs[3:]:\n",
    "            for edge in current.edges:\n",
    "                if edge_visible(edge, viewPointV):\n",
    "                    triangle = Triangle(vertices=[edge.a, edge.b, viewPointV])\n",
    "                    self.triangluation.append(triangle)\n",
    "                    print(self.rotation)\n",
    "                    print(triangle.rotation)\n",
    "                    current.join(triangle)"
   ]
  },
  {
   "cell_type": "code",
   "execution_count": null,
   "id": "4481f0a2",
   "metadata": {},
   "outputs": [],
   "source": [
    "class SimplePolygon(Polygon):\n",
    "    ..."
   ]
  },
  {
   "cell_type": "code",
   "execution_count": null,
   "id": "7e3ce44f",
   "metadata": {},
   "outputs": [],
   "source": [
    "class Triangle(SimplePolygon):\n",
    "    def __init__(self, **kwargs) -> None:\n",
    "\n",
    "        self.vertices = None\n",
    "        self.edges = None\n",
    "        self.rotation = None\n",
    "        self.L = 3\n",
    "        self.convex_type = \"CONVEX\"\n",
    "        self.simple_type = \"SIMPLE\"\n",
    "        self.signed_area = None\n",
    "        self.triangluation = [self]\n",
    "        self.centroid = None\n",
    "        self.edge_normals = None\n",
    "        self.simple_polygon_list = [self]\n",
    "        self.color = \"black\"\n",
    "        self.__dict__.update(kwargs)\n",
    "\n",
    "        assert self.vertices or self.edges, \"Triangle: vertices and edges are empty\"\n",
    "\n",
    "        if self.edges is None:\n",
    "            self._edges()\n",
    "\n",
    "        if self.vertices is None:\n",
    "            self._vertices()\n",
    "\n",
    "        if self.centroid is None:\n",
    "            self._centroid()\n",
    "        \n",
    "        if self.signed_area is None:\n",
    "            self._signed_area()\n",
    "\n",
    "        if self.rotation is None:\n",
    "            self._rotation()\n",
    "\n",
    "        if self.edge_normals is None:\n",
    "            self._edge_normals()\n",
    "\n",
    "        self.color_rgb = ImageColor.getrgb(self.color)\n"
   ]
  },
  {
   "cell_type": "code",
   "execution_count": 3304,
   "id": "6f945641",
   "metadata": {},
   "outputs": [],
   "source": [
    "def edge_visible(edge, viewvector):\n",
    "    dot_product = np.dot(edge.normal, viewvector.v)\n",
    "    return dot_product <= 0\n"
   ]
  },
  {
   "cell_type": "code",
   "execution_count": 3305,
   "id": "fb02b3b2",
   "metadata": {},
   "outputs": [],
   "source": [
    "def draw_polygon(polygon, draw):\n",
    "    for edge in polygon.edges:\n",
    "        draw.PointV(pixelEdge(edge), fill=polygon.color)"
   ]
  },
  {
   "cell_type": "code",
   "execution_count": 3306,
   "id": "83cb0a23",
   "metadata": {},
   "outputs": [],
   "source": [
    "def pixelLine(x1, y1, x2, y2):\n",
    "    dx = x2 - x1\n",
    "    dy = y2 - y1\n",
    "    ix = 1 if dx > 0 else -1\n",
    "    iy = 1 if dy > 0 else -1\n",
    "    dx *= ix\n",
    "    dy *= iy\n",
    "    x = x1\n",
    "    y = y1\n",
    "    pixels = []\n",
    "    if dx < dy:\n",
    "        E = 2 * dx - dy\n",
    "        for _ in range(dy + 1):\n",
    "            pixels.append((x, y))\n",
    "            if E >= 0:\n",
    "                x += ix\n",
    "                E -= 2 * dy\n",
    "            y += iy\n",
    "            E += 2 * dx\n",
    "    else:\n",
    "        E = 2 * dy - dx\n",
    "        for _ in range(dx + 1):\n",
    "            pixels.append((x, y))\n",
    "            if E >= 0:\n",
    "                y += iy\n",
    "                E -= 2 * dx\n",
    "            x += ix\n",
    "            E += 2 * dy\n",
    "    return pixels\n",
    "\n",
    "\n",
    "def pixelEdge(e):\n",
    "    x1, y1, x2, y2 = (\n",
    "        round(e.a.v[0]),\n",
    "        round(e.a.v[1]),\n",
    "        round(e.b.v[0]),\n",
    "        round(e.b.v[1]),\n",
    "    )\n",
    "    return pixelLine(x1, y1, x2, y2)"
   ]
  },
  {
   "cell_type": "code",
   "execution_count": 3307,
   "id": "f1b4a399",
   "metadata": {},
   "outputs": [],
   "source": [
    "def classify(x1, y1, x2, y2, x, y):\n",
    "    ax = x2 - x1\n",
    "    ay = y2 - y1\n",
    "    bx = x - x1\n",
    "    by = y - y1\n",
    "    s = ax * by - ay * bx\n",
    "    if s > 0:\n",
    "        return \"LEFT\"\n",
    "    if s < 0:\n",
    "        return \"RIGHT\"\n",
    "    if ax * bx < 0 or ay * by < 0:\n",
    "        return \"BEHIND\"\n",
    "    if ax**2 + ay**2 < bx**2 + by**2:\n",
    "        return \"INFRONT\"\n",
    "    if x == x1 and y == y1:\n",
    "        return \"ORIGIN\"\n",
    "    if x == x2 and y == y2:\n",
    "        return \"DESTINATION\"\n",
    "    return \"BETWEEN\"\n",
    "\n",
    "\n",
    "def classifyEdgePointV(e, p):\n",
    "    print(e, p)\n",
    "    return classify(*e.a.v, *e.b.v, *p.v)"
   ]
  },
  {
   "cell_type": "code",
   "execution_count": 3308,
   "id": "4b9aa4e1",
   "metadata": {},
   "outputs": [],
   "source": [
    "def intersect(ax, ay, bx, by, cx, cy, dx, dy):\n",
    "    nx = dy - cy\n",
    "    ny = cx - dx\n",
    "    denom = nx * (bx - ax) + ny * (by - ay)\n",
    "    if denom == 0:\n",
    "        type = classify(cx, cy, dx, dy, ax, ay)\n",
    "        if type == \"LEFT\" or type == \"RIGHT\":\n",
    "            return \"PARALLEL\", None\n",
    "        else:\n",
    "            return \"SAME\", None\n",
    "    num = nx * (ax - cx) + ny * (ay - cy)\n",
    "    t = -num / denom\n",
    "    return \"SKEW\", t\n",
    "\n",
    "\n",
    "def intersectEdges(e1, e2):\n",
    "    return intersect(*e1.a.v, *e1.b.v, *e2.a.v, *e2.b.v)"
   ]
  },
  {
   "cell_type": "code",
   "execution_count": 3309,
   "id": "898e2fb9",
   "metadata": {},
   "outputs": [],
   "source": [
    "def cross(ax, ay, bx, by, cx, cy, dx, dy):\n",
    "    type, tab = intersect(ax, ay, bx, by, cx, cy, dx, dy)\n",
    "    if type == \"SAME\" or type == \"PARALLEL\" or tab is None:\n",
    "        return type, None\n",
    "    if tab < 0 or tab > 1:\n",
    "        return \"SKEW_NO_CROSS\", None\n",
    "    _, tcd = intersect(cx, cy, dx, dy, ax, ay, bx, by)\n",
    "    if tcd is not None and (tcd < 0 or tcd > 1):\n",
    "        return \"SKEW_NO_CROSS\", None\n",
    "    return \"SKEW_CROSS\", tab\n",
    "\n",
    "\n",
    "def crossEdges(e1, e2):\n",
    "    return cross(*e1.a.v, *e1.b.v, *e2.a.v, *e2.b.v)"
   ]
  },
  {
   "cell_type": "code",
   "execution_count": 3310,
   "id": "ff863736",
   "metadata": {},
   "outputs": [],
   "source": [
    "img = Image.new(\"RGB\", (200, 200), \"white\")\n",
    "draw = ImageDraw.Draw(img)"
   ]
  },
  {
   "cell_type": "code",
   "execution_count": 3311,
   "id": "84ab52c4",
   "metadata": {},
   "outputs": [
    {
     "name": "stdout",
     "output_type": "stream",
     "text": [
      "Edge <PointV [10. 60.] PointV [ 50. 100.]> PointV [150.  80.]\n",
      "Edge <PointV [ 50. 100.] PointV [100.  20.]> PointV [150.  80.]\n",
      "vi.a  PointV [150.  80.]\n",
      "vi.b  PointV [10. 60.]\n",
      "ti  0.5737\n",
      "intersection_PointV  PointV [69.7 68.5]\n",
      "vi.a  PointV [150.  80.]\n",
      "vi.b  PointV [10. 60.]\n",
      "ti  0.302\n",
      "intersection_PointV  PointV [107.75  73.94]\n",
      "vi.a  PointV [120. 160.]\n",
      "vi.b  PointV [190. 100.]\n",
      "ti  0.5996\n",
      "intersection_PointV  PointV [162. 124.]\n",
      "Edge <PointV [10. 60.] PointV [ 50. 100.]> PointV [69.7 68.5]\n",
      "Edge <PointV [ 50. 100.] PointV [69.7 68.5]> PointV [10. 60.]\n",
      "Edge <PointV [69.7 68.5] PointV [10. 60.]> PointV [ 50. 100.]\n",
      "Edge <PointV [69.7 68.5] PointV [100.  20.]> PointV [107.75  73.94]\n",
      "Edge <PointV [100.  20.] PointV [107.75  73.94]> PointV [69.7 68.5]\n",
      "Edge <PointV [107.75  73.94] PointV [69.7 68.5]> PointV [100.  20.]\n",
      "Edge <PointV [190. 100.] PointV [180. 190.]> PointV [162. 124.]\n",
      "Edge <PointV [180. 190.] PointV [162. 124.]> PointV [190. 100.]\n",
      "Edge <PointV [162. 124.] PointV [190. 100.]> PointV [180. 190.]\n",
      "Edge <PointV [107.75  73.94] PointV [120. 160.]> PointV [150.  80.]\n",
      "Edge <PointV [120. 160.] PointV [162. 124.]> PointV [150.  80.]\n",
      "Edge <PointV [120. 160.] PointV [162. 124.]> PointV [107.75  73.94]\n",
      "Edge <PointV [162. 124.] PointV [150.  80.]> PointV [107.75  73.94]\n",
      "Edge <PointV [162. 124.] PointV [150.  80.]> PointV [120. 160.]\n",
      "Edge <PointV [150.  80.] PointV [107.75  73.94]> PointV [120. 160.]\n",
      "Edge <PointV [150.  80.] PointV [107.75  73.94]> PointV [162. 124.]\n",
      "Edge <PointV [107.75  73.94] PointV [120. 160.]> PointV [162. 124.]\n",
      "None\n",
      "CW\n"
     ]
    },
    {
     "name": "stderr",
     "output_type": "stream",
     "text": [
      "C:\\Users\\1\\AppData\\Local\\Temp\\ipykernel_12012\\4256152422.py:31: RuntimeWarning: overflow encountered in multiply\n",
      "  return PointV(v=self.v * value)\n",
      "C:\\Users\\1\\AppData\\Local\\Temp\\ipykernel_12012\\4256152422.py:40: RuntimeWarning: invalid value encountered in divide\n",
      "  return self.v / self.norm()\n"
     ]
    },
    {
     "ename": "AssertionError",
     "evalue": "Polygons should have different rotations",
     "output_type": "error",
     "traceback": [
      "\u001b[31m---------------------------------------------------------------------------\u001b[39m",
      "\u001b[31mAssertionError\u001b[39m                            Traceback (most recent call last)",
      "\u001b[36mCell\u001b[39m\u001b[36m \u001b[39m\u001b[32mIn[3311]\u001b[39m\u001b[32m, line 1\u001b[39m\n\u001b[32m----> \u001b[39m\u001b[32m1\u001b[39m p0 = \u001b[43mPolygon\u001b[49m\u001b[43m(\u001b[49m\n\u001b[32m      2\u001b[39m \u001b[43m    \u001b[49m\u001b[43mvertices\u001b[49m\u001b[43m=\u001b[49m\u001b[43m[\u001b[49m\n\u001b[32m      3\u001b[39m \u001b[43m        \u001b[49m\u001b[43mPointV\u001b[49m\u001b[43m(\u001b[49m\u001b[32;43m150\u001b[39;49m\u001b[43m,\u001b[49m\u001b[43m \u001b[49m\u001b[32;43m80\u001b[39;49m\u001b[43m)\u001b[49m\u001b[43m,\u001b[49m\n\u001b[32m      4\u001b[39m \u001b[43m        \u001b[49m\u001b[43mPointV\u001b[49m\u001b[43m(\u001b[49m\u001b[32;43m10\u001b[39;49m\u001b[43m,\u001b[49m\u001b[43m \u001b[49m\u001b[32;43m60\u001b[39;49m\u001b[43m)\u001b[49m\u001b[43m,\u001b[49m\n\u001b[32m      5\u001b[39m \u001b[43m        \u001b[49m\u001b[43mPointV\u001b[49m\u001b[43m(\u001b[49m\u001b[32;43m50\u001b[39;49m\u001b[43m,\u001b[49m\u001b[43m \u001b[49m\u001b[32;43m100\u001b[39;49m\u001b[43m)\u001b[49m\u001b[43m,\u001b[49m\n\u001b[32m      6\u001b[39m \u001b[43m        \u001b[49m\u001b[43mPointV\u001b[49m\u001b[43m(\u001b[49m\u001b[32;43m100\u001b[39;49m\u001b[43m,\u001b[49m\u001b[43m \u001b[49m\u001b[32;43m20\u001b[39;49m\u001b[43m)\u001b[49m\u001b[43m,\u001b[49m\n\u001b[32m      7\u001b[39m \u001b[43m        \u001b[49m\u001b[43mPointV\u001b[49m\u001b[43m(\u001b[49m\u001b[32;43m120\u001b[39;49m\u001b[43m,\u001b[49m\u001b[43m \u001b[49m\u001b[32;43m160\u001b[39;49m\u001b[43m)\u001b[49m\u001b[43m,\u001b[49m\n\u001b[32m      8\u001b[39m \u001b[43m        \u001b[49m\u001b[43mPointV\u001b[49m\u001b[43m(\u001b[49m\u001b[32;43m190\u001b[39;49m\u001b[43m,\u001b[49m\u001b[43m \u001b[49m\u001b[32;43m100\u001b[39;49m\u001b[43m)\u001b[49m\u001b[43m,\u001b[49m\n\u001b[32m      9\u001b[39m \u001b[43m        \u001b[49m\u001b[43mPointV\u001b[49m\u001b[43m(\u001b[49m\u001b[32;43m180\u001b[39;49m\u001b[43m,\u001b[49m\u001b[43m \u001b[49m\u001b[32;43m190\u001b[39;49m\u001b[43m)\u001b[49m\u001b[43m,\u001b[49m\n\u001b[32m     10\u001b[39m \u001b[43m    \u001b[49m\u001b[43m]\u001b[49m\u001b[43m,\u001b[49m\n\u001b[32m     11\u001b[39m \u001b[43m    \u001b[49m\u001b[43mcolor\u001b[49m\u001b[43m=\u001b[49m\u001b[33;43m\"\u001b[39;49m\u001b[33;43mblue\u001b[39;49m\u001b[33;43m\"\u001b[39;49m\u001b[43m,\u001b[49m\n\u001b[32m     12\u001b[39m \u001b[43m)\u001b[49m\n",
      "\u001b[36mCell\u001b[39m\u001b[36m \u001b[39m\u001b[32mIn[3302]\u001b[39m\u001b[32m, line 45\u001b[39m, in \u001b[36mPolygon.__init__\u001b[39m\u001b[34m(self, **kwargs)\u001b[39m\n\u001b[32m     43\u001b[39m \u001b[38;5;28;01mif\u001b[39;00m \u001b[38;5;28mself\u001b[39m.simple_polygon_list == []:\n\u001b[32m     44\u001b[39m     \u001b[38;5;28;01mif\u001b[39;00m \u001b[38;5;28mself\u001b[39m.simple_type == \u001b[33m\"\u001b[39m\u001b[33mSELF_INTERSECTED\u001b[39m\u001b[33m\"\u001b[39m:\n\u001b[32m---> \u001b[39m\u001b[32m45\u001b[39m         \u001b[38;5;28;43mself\u001b[39;49m\u001b[43m.\u001b[49m\u001b[43m_simple_polygon_list\u001b[49m\u001b[43m(\u001b[49m\u001b[43m)\u001b[49m\n\u001b[32m     46\u001b[39m     \u001b[38;5;28;01melse\u001b[39;00m:\n\u001b[32m     47\u001b[39m         \u001b[38;5;28mself\u001b[39m.simple_polygon_list = [\u001b[38;5;28mself\u001b[39m]\n",
      "\u001b[36mCell\u001b[39m\u001b[36m \u001b[39m\u001b[32mIn[3302]\u001b[39m\u001b[32m, line 154\u001b[39m, in \u001b[36mPolygon._simple_polygon_list\u001b[39m\u001b[34m(self)\u001b[39m\n\u001b[32m    148\u001b[39m stack_edges[-\u001b[32m1\u001b[39m].append(edge)\n\u001b[32m    149\u001b[39m \u001b[38;5;28;01mif\u001b[39;00m (\n\u001b[32m    150\u001b[39m     \u001b[38;5;28mlen\u001b[39m(stack_edges[-\u001b[32m1\u001b[39m]) > \u001b[32m1\u001b[39m \u001b[38;5;129;01mand\u001b[39;00m \\\n\u001b[32m    151\u001b[39m         stack_edges[-\u001b[32m1\u001b[39m][\u001b[32m0\u001b[39m].a == stack_edges[-\u001b[32m1\u001b[39m][-\u001b[32m1\u001b[39m].b\n\u001b[32m    152\u001b[39m ):\n\u001b[32m    153\u001b[39m     \u001b[38;5;28mself\u001b[39m.simple_polygon_list.append(\n\u001b[32m--> \u001b[39m\u001b[32m154\u001b[39m         \u001b[43mPolygon\u001b[49m\u001b[43m(\u001b[49m\n\u001b[32m    155\u001b[39m \u001b[43m            \u001b[49m\u001b[43medges\u001b[49m\u001b[43m=\u001b[49m\u001b[43mstack_edges\u001b[49m\u001b[43m.\u001b[49m\u001b[43mpop\u001b[49m\u001b[43m(\u001b[49m\u001b[43m)\u001b[49m\u001b[43m,\u001b[49m\u001b[43m \u001b[49m\n\u001b[32m    156\u001b[39m \u001b[43m            \u001b[49m\u001b[43msimple_type\u001b[49m\u001b[43m=\u001b[49m\u001b[33;43m\"\u001b[39;49m\u001b[33;43mSIMPLE\u001b[39;49m\u001b[33;43m\"\u001b[39;49m\u001b[43m,\u001b[49m\n\u001b[32m    157\u001b[39m \u001b[43m            \u001b[49m\u001b[43mcolor\u001b[49m\u001b[43m=\u001b[49m\u001b[38;5;28;43mself\u001b[39;49m\u001b[43m.\u001b[49m\u001b[43mcolor\u001b[49m\n\u001b[32m    158\u001b[39m \u001b[43m            \u001b[49m\u001b[43m)\u001b[49m\n\u001b[32m    159\u001b[39m         )\n\u001b[32m    160\u001b[39m \u001b[38;5;28;01melse\u001b[39;00m:\n\u001b[32m    161\u001b[39m     stack_edges.append([])\n",
      "\u001b[36mCell\u001b[39m\u001b[36m \u001b[39m\u001b[32mIn[3302]\u001b[39m\u001b[32m, line 50\u001b[39m, in \u001b[36mPolygon.__init__\u001b[39m\u001b[34m(self, **kwargs)\u001b[39m\n\u001b[32m     47\u001b[39m         \u001b[38;5;28mself\u001b[39m.simple_polygon_list = [\u001b[38;5;28mself\u001b[39m]\n\u001b[32m     49\u001b[39m \u001b[38;5;28;01mif\u001b[39;00m \u001b[38;5;28mself\u001b[39m.triangluation == []:\n\u001b[32m---> \u001b[39m\u001b[32m50\u001b[39m     \u001b[38;5;28;43mself\u001b[39;49m\u001b[43m.\u001b[49m\u001b[43m_triangluation\u001b[49m\u001b[43m(\u001b[49m\u001b[43m)\u001b[49m\n\u001b[32m     52\u001b[39m \u001b[38;5;28;01mif\u001b[39;00m \u001b[38;5;28mself\u001b[39m.signed_area \u001b[38;5;129;01mis\u001b[39;00m \u001b[38;5;28;01mNone\u001b[39;00m:\n\u001b[32m     53\u001b[39m     \u001b[38;5;28mself\u001b[39m._signed_area()\n",
      "\u001b[36mCell\u001b[39m\u001b[36m \u001b[39m\u001b[32mIn[3302]\u001b[39m\u001b[32m, line 220\u001b[39m, in \u001b[36mPolygon._triangluation\u001b[39m\u001b[34m(self)\u001b[39m\n\u001b[32m    218\u001b[39m \u001b[38;5;28mprint\u001b[39m(\u001b[38;5;28mself\u001b[39m.rotation)\n\u001b[32m    219\u001b[39m \u001b[38;5;28mprint\u001b[39m(triangle.rotation)\n\u001b[32m--> \u001b[39m\u001b[32m220\u001b[39m \u001b[43mcurrent\u001b[49m\u001b[43m.\u001b[49m\u001b[43mjoin\u001b[49m\u001b[43m(\u001b[49m\u001b[43mtriangle\u001b[49m\u001b[43m)\u001b[49m\n",
      "\u001b[36mCell\u001b[39m\u001b[36m \u001b[39m\u001b[32mIn[3302]\u001b[39m\u001b[32m, line 204\u001b[39m, in \u001b[36mPolygon.join\u001b[39m\u001b[34m(self, other)\u001b[39m\n\u001b[32m    203\u001b[39m \u001b[38;5;28;01mdef\u001b[39;00m\u001b[38;5;250m \u001b[39m\u001b[34mjoin\u001b[39m(\u001b[38;5;28mself\u001b[39m, other: Polygon):\n\u001b[32m--> \u001b[39m\u001b[32m204\u001b[39m     \u001b[38;5;28;01massert\u001b[39;00m \u001b[38;5;28mself\u001b[39m.rotation != other.rotation, \u001b[33m\"\u001b[39m\u001b[33mPolygons should have different rotations\u001b[39m\u001b[33m\"\u001b[39m\n\u001b[32m    205\u001b[39m     \u001b[38;5;28mself\u001b[39m.edges = \u001b[38;5;28mself\u001b[39m.edges.symmetric_difference(other.edges)\n\u001b[32m    206\u001b[39m     \u001b[38;5;28mself\u001b[39m._vertices()\n",
      "\u001b[31mAssertionError\u001b[39m: Polygons should have different rotations"
     ]
    }
   ],
   "source": [
    "p0 = Polygon(\n",
    "    vertices=[\n",
    "        PointV(150, 80),\n",
    "        PointV(10, 60),\n",
    "        PointV(50, 100),\n",
    "        PointV(100, 20),\n",
    "        PointV(120, 160),\n",
    "        PointV(190, 100),\n",
    "        PointV(180, 190),\n",
    "    ],\n",
    "    color=\"blue\",\n",
    ")"
   ]
  },
  {
   "cell_type": "code",
   "execution_count": null,
   "id": "2248fa0a",
   "metadata": {},
   "outputs": [
    {
     "data": {
      "text/plain": [
       "'CONCAVE'"
      ]
     },
     "execution_count": 2562,
     "metadata": {},
     "output_type": "execute_result"
    }
   ],
   "source": [
    "p0.convex_type"
   ]
  },
  {
   "cell_type": "code",
   "execution_count": null,
   "id": "9f634835",
   "metadata": {},
   "outputs": [
    {
     "data": {
      "text/plain": [
       "'SELF_INTERSECTED'"
      ]
     },
     "execution_count": 2563,
     "metadata": {},
     "output_type": "execute_result"
    }
   ],
   "source": [
    "p0.simple_type"
   ]
  },
  {
   "cell_type": "code",
   "execution_count": null,
   "id": "35096efc",
   "metadata": {},
   "outputs": [
    {
     "data": {
      "text/plain": [
       "[<__main__.Polygon at 0x160b6fa8770>,\n",
       " <__main__.Polygon at 0x160b6faac60>,\n",
       " <__main__.Polygon at 0x160b6faa480>,\n",
       " <__main__.Polygon at 0x160b6fabb90>]"
      ]
     },
     "execution_count": 2564,
     "metadata": {},
     "output_type": "execute_result"
    }
   ],
   "source": [
    "p0.simple_polygon_list"
   ]
  },
  {
   "cell_type": "code",
   "execution_count": null,
   "id": "77c62738",
   "metadata": {},
   "outputs": [
    {
     "data": {
      "text/plain": [
       "-1800.0"
      ]
     },
     "execution_count": 2565,
     "metadata": {},
     "output_type": "execute_result"
    }
   ],
   "source": [
    "p0.signed_area"
   ]
  },
  {
   "cell_type": "code",
   "execution_count": null,
   "id": "0b5b43e7",
   "metadata": {},
   "outputs": [
    {
     "data": {
      "text/plain": [
       "'CW'"
      ]
     },
     "execution_count": 2566,
     "metadata": {},
     "output_type": "execute_result"
    }
   ],
   "source": [
    "p0.rotation"
   ]
  },
  {
   "cell_type": "code",
   "execution_count": null,
   "id": "035a2ba7",
   "metadata": {},
   "outputs": [],
   "source": [
    "draw_polygon(p0, draw)"
   ]
  },
  {
   "cell_type": "code",
   "execution_count": null,
   "id": "8a4271cb",
   "metadata": {},
   "outputs": [],
   "source": [
    "p1 = Polygon(\n",
    "    vertices=[\n",
    "        PointV(10, 10),\n",
    "        PointV(40, 100),\n",
    "        PointV(100, 150),\n",
    "        PointV(50, 180),\n",
    "        PointV(70, 10),\n",
    "    ],\n",
    "    color=\"green\",\n",
    ")"
   ]
  },
  {
   "cell_type": "code",
   "execution_count": null,
   "id": "bdb1e71a",
   "metadata": {},
   "outputs": [
    {
     "data": {
      "text/plain": [
       "'CONCAVE'"
      ]
     },
     "execution_count": 2569,
     "metadata": {},
     "output_type": "execute_result"
    }
   ],
   "source": [
    "p1.convex_type"
   ]
  },
  {
   "cell_type": "code",
   "execution_count": null,
   "id": "06cfc015",
   "metadata": {},
   "outputs": [
    {
     "data": {
      "text/plain": [
       "'SELF_INTERSECTED'"
      ]
     },
     "execution_count": 2570,
     "metadata": {},
     "output_type": "execute_result"
    }
   ],
   "source": [
    "p1.simple_type"
   ]
  },
  {
   "cell_type": "code",
   "execution_count": null,
   "id": "9c6e2e4c",
   "metadata": {},
   "outputs": [
    {
     "data": {
      "text/plain": [
       "[<__main__.Polygon at 0x160b5a1e090>, <__main__.Polygon at 0x160b61764b0>]"
      ]
     },
     "execution_count": 2571,
     "metadata": {},
     "output_type": "execute_result"
    }
   ],
   "source": [
    "p1.simple_polygon_list"
   ]
  },
  {
   "cell_type": "code",
   "execution_count": null,
   "id": "6b543158",
   "metadata": {},
   "outputs": [],
   "source": [
    "# draw_polygon(p1, draw)"
   ]
  },
  {
   "cell_type": "code",
   "execution_count": null,
   "id": "8623801d",
   "metadata": {},
   "outputs": [],
   "source": [
    "p2 = Polygon(\n",
    "    vertices=[\n",
    "        PointV(20, 10),\n",
    "        PointV(50, 10),\n",
    "        PointV(80, 20),\n",
    "        PointV(90, 50),\n",
    "        PointV(70, 80),\n",
    "        PointV(40, 90),\n",
    "        PointV(10, 60),\n",
    "    ],\n",
    "    color=\"yellow\",\n",
    ")"
   ]
  },
  {
   "cell_type": "code",
   "execution_count": null,
   "id": "2c7f81da",
   "metadata": {},
   "outputs": [
    {
     "data": {
      "text/plain": [
       "'CONVEX'"
      ]
     },
     "execution_count": 2574,
     "metadata": {},
     "output_type": "execute_result"
    }
   ],
   "source": [
    "p2.convex_type"
   ]
  },
  {
   "cell_type": "code",
   "execution_count": null,
   "id": "ccc3f55d",
   "metadata": {},
   "outputs": [
    {
     "data": {
      "text/plain": [
       "'SIMPLE'"
      ]
     },
     "execution_count": 2575,
     "metadata": {},
     "output_type": "execute_result"
    }
   ],
   "source": [
    "p2.simple_type"
   ]
  },
  {
   "cell_type": "code",
   "execution_count": null,
   "id": "79a73c9d",
   "metadata": {},
   "outputs": [
    {
     "data": {
      "text/plain": [
       "[<__main__.Polygon at 0x160b70e1f70>]"
      ]
     },
     "execution_count": 2576,
     "metadata": {},
     "output_type": "execute_result"
    }
   ],
   "source": [
    "p2.simple_polygon_list"
   ]
  },
  {
   "cell_type": "code",
   "execution_count": null,
   "id": "fc81e05d",
   "metadata": {},
   "outputs": [],
   "source": [
    "# draw_polygon(p2, draw)\n",
    "# img.show()"
   ]
  },
  {
   "cell_type": "code",
   "execution_count": null,
   "id": "29eb076b",
   "metadata": {},
   "outputs": [],
   "source": [
    "triangle = Polygon(\n",
    "    vertices=[\n",
    "        PointV(34, 80),\n",
    "        PointV(57, 1),\n",
    "        PointV(170, 80),\n",
    "    ],\n",
    "    color=\"yellow\",  # A B  # B C  # C A\n",
    ")"
   ]
  },
  {
   "cell_type": "code",
   "execution_count": null,
   "id": "4286523f",
   "metadata": {},
   "outputs": [],
   "source": [
    "def paint_triangle():\n",
    "    edges = [pixelEdge(edge) for edge in triangle.edges]\n",
    "    ABC = edges[0] + edges[1]\n",
    "    i = 0\n",
    "    AC = edges[2][::-1]\n",
    "    j = 0\n",
    "    A = AC[0]\n",
    "    C = AC[-1]\n",
    "    dxAC = abs(A[0] - C[0])\n",
    "    dyAC = abs(A[1] - C[1])\n",
    "    k = 0 if dxAC > dyAC else 1\n",
    "    pixels = []\n",
    "    while ABC[i] != C:\n",
    "        line = pixelLine(*ABC[i], *AC[j])\n",
    "        pixels.extend(line)\n",
    "        i += 1\n",
    "        if AC[j][k] != ABC[i][k]:\n",
    "            j += 1\n",
    "    return pixels"
   ]
  },
  {
   "cell_type": "code",
   "execution_count": null,
   "id": "4c58e51b",
   "metadata": {},
   "outputs": [],
   "source": [
    "# draw.PointV(paint_triangle(), fill=\"red\")\n",
    "\n",
    "\n",
    "img.show()"
   ]
  },
  {
   "cell_type": "code",
   "execution_count": null,
   "id": "1e210c90",
   "metadata": {},
   "outputs": [],
   "source": []
  }
 ],
 "metadata": {
  "kernelspec": {
   "display_name": "Python 3",
   "language": "python",
   "name": "python3"
  },
  "language_info": {
   "codemirror_mode": {
    "name": "ipython",
    "version": 3
   },
   "file_extension": ".py",
   "mimetype": "text/x-python",
   "name": "python",
   "nbconvert_exporter": "python",
   "pygments_lexer": "ipython3",
   "version": "3.12.10"
  }
 },
 "nbformat": 4,
 "nbformat_minor": 5
}
